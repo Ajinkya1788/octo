{
 "cells": [
  {
   "cell_type": "code",
   "execution_count": 48,
   "metadata": {},
   "outputs": [],
   "source": [
    "import pandas as pd\n",
    "import numpy as np\n",
    "import matplotlib.pyplot as plt\n",
    "import seaborn as sn\n",
    "import warnings\n",
    "warnings.filterwarnings('ignore')\n",
    "from pylab import rcParams\n",
    "%matplotlib inline"
   ]
  },
  {
   "cell_type": "code",
   "execution_count": 49,
   "metadata": {},
   "outputs": [],
   "source": [
    "data=pd.read_csv(r'D:\\pandasdataset\\project\\bhp\\Bengaluru_House_Data.csv')"
   ]
  },
  {
   "cell_type": "code",
   "execution_count": 50,
   "metadata": {},
   "outputs": [
    {
     "data": {
      "text/html": [
       "<div>\n",
       "<style scoped>\n",
       "    .dataframe tbody tr th:only-of-type {\n",
       "        vertical-align: middle;\n",
       "    }\n",
       "\n",
       "    .dataframe tbody tr th {\n",
       "        vertical-align: top;\n",
       "    }\n",
       "\n",
       "    .dataframe thead th {\n",
       "        text-align: right;\n",
       "    }\n",
       "</style>\n",
       "<table border=\"1\" class=\"dataframe\">\n",
       "  <thead>\n",
       "    <tr style=\"text-align: right;\">\n",
       "      <th></th>\n",
       "      <th>area_type</th>\n",
       "      <th>availability</th>\n",
       "      <th>location</th>\n",
       "      <th>size</th>\n",
       "      <th>society</th>\n",
       "      <th>total_sqft</th>\n",
       "      <th>bath</th>\n",
       "      <th>balcony</th>\n",
       "      <th>price</th>\n",
       "    </tr>\n",
       "  </thead>\n",
       "  <tbody>\n",
       "    <tr>\n",
       "      <th>0</th>\n",
       "      <td>Super built-up  Area</td>\n",
       "      <td>19-Dec</td>\n",
       "      <td>Electronic City Phase II</td>\n",
       "      <td>2 BHK</td>\n",
       "      <td>Coomee</td>\n",
       "      <td>1056</td>\n",
       "      <td>2.0</td>\n",
       "      <td>1.0</td>\n",
       "      <td>39.07</td>\n",
       "    </tr>\n",
       "    <tr>\n",
       "      <th>1</th>\n",
       "      <td>Plot  Area</td>\n",
       "      <td>Ready To Move</td>\n",
       "      <td>Chikka Tirupathi</td>\n",
       "      <td>4 Bedroom</td>\n",
       "      <td>Theanmp</td>\n",
       "      <td>2600</td>\n",
       "      <td>5.0</td>\n",
       "      <td>3.0</td>\n",
       "      <td>120.00</td>\n",
       "    </tr>\n",
       "    <tr>\n",
       "      <th>2</th>\n",
       "      <td>Built-up  Area</td>\n",
       "      <td>Ready To Move</td>\n",
       "      <td>Uttarahalli</td>\n",
       "      <td>3 BHK</td>\n",
       "      <td>NaN</td>\n",
       "      <td>1440</td>\n",
       "      <td>2.0</td>\n",
       "      <td>3.0</td>\n",
       "      <td>62.00</td>\n",
       "    </tr>\n",
       "    <tr>\n",
       "      <th>3</th>\n",
       "      <td>Super built-up  Area</td>\n",
       "      <td>Ready To Move</td>\n",
       "      <td>Lingadheeranahalli</td>\n",
       "      <td>3 BHK</td>\n",
       "      <td>Soiewre</td>\n",
       "      <td>1521</td>\n",
       "      <td>3.0</td>\n",
       "      <td>1.0</td>\n",
       "      <td>95.00</td>\n",
       "    </tr>\n",
       "    <tr>\n",
       "      <th>4</th>\n",
       "      <td>Super built-up  Area</td>\n",
       "      <td>Ready To Move</td>\n",
       "      <td>Kothanur</td>\n",
       "      <td>2 BHK</td>\n",
       "      <td>NaN</td>\n",
       "      <td>1200</td>\n",
       "      <td>2.0</td>\n",
       "      <td>1.0</td>\n",
       "      <td>51.00</td>\n",
       "    </tr>\n",
       "  </tbody>\n",
       "</table>\n",
       "</div>"
      ],
      "text/plain": [
       "              area_type   availability                  location       size  \\\n",
       "0  Super built-up  Area         19-Dec  Electronic City Phase II      2 BHK   \n",
       "1            Plot  Area  Ready To Move          Chikka Tirupathi  4 Bedroom   \n",
       "2        Built-up  Area  Ready To Move               Uttarahalli      3 BHK   \n",
       "3  Super built-up  Area  Ready To Move        Lingadheeranahalli      3 BHK   \n",
       "4  Super built-up  Area  Ready To Move                  Kothanur      2 BHK   \n",
       "\n",
       "   society total_sqft  bath  balcony   price  \n",
       "0  Coomee        1056   2.0      1.0   39.07  \n",
       "1  Theanmp       2600   5.0      3.0  120.00  \n",
       "2      NaN       1440   2.0      3.0   62.00  \n",
       "3  Soiewre       1521   3.0      1.0   95.00  \n",
       "4      NaN       1200   2.0      1.0   51.00  "
      ]
     },
     "execution_count": 50,
     "metadata": {},
     "output_type": "execute_result"
    }
   ],
   "source": [
    "data.head()"
   ]
  },
  {
   "cell_type": "markdown",
   "metadata": {},
   "source": [
    "#### chcking for missing values"
   ]
  },
  {
   "cell_type": "code",
   "execution_count": 51,
   "metadata": {
    "scrolled": true
   },
   "outputs": [
    {
     "data": {
      "text/html": [
       "<div>\n",
       "<style scoped>\n",
       "    .dataframe tbody tr th:only-of-type {\n",
       "        vertical-align: middle;\n",
       "    }\n",
       "\n",
       "    .dataframe tbody tr th {\n",
       "        vertical-align: top;\n",
       "    }\n",
       "\n",
       "    .dataframe thead th {\n",
       "        text-align: right;\n",
       "    }\n",
       "</style>\n",
       "<table border=\"1\" class=\"dataframe\">\n",
       "  <thead>\n",
       "    <tr style=\"text-align: right;\">\n",
       "      <th></th>\n",
       "      <th>total</th>\n",
       "      <th>percent</th>\n",
       "    </tr>\n",
       "  </thead>\n",
       "  <tbody>\n",
       "    <tr>\n",
       "      <th>area_type</th>\n",
       "      <td>0</td>\n",
       "      <td>0.000000</td>\n",
       "    </tr>\n",
       "    <tr>\n",
       "      <th>availability</th>\n",
       "      <td>0</td>\n",
       "      <td>0.000000</td>\n",
       "    </tr>\n",
       "    <tr>\n",
       "      <th>location</th>\n",
       "      <td>1</td>\n",
       "      <td>0.000075</td>\n",
       "    </tr>\n",
       "    <tr>\n",
       "      <th>size</th>\n",
       "      <td>16</td>\n",
       "      <td>0.001201</td>\n",
       "    </tr>\n",
       "    <tr>\n",
       "      <th>society</th>\n",
       "      <td>5502</td>\n",
       "      <td>0.413063</td>\n",
       "    </tr>\n",
       "    <tr>\n",
       "      <th>total_sqft</th>\n",
       "      <td>0</td>\n",
       "      <td>0.000000</td>\n",
       "    </tr>\n",
       "    <tr>\n",
       "      <th>bath</th>\n",
       "      <td>73</td>\n",
       "      <td>0.005480</td>\n",
       "    </tr>\n",
       "    <tr>\n",
       "      <th>balcony</th>\n",
       "      <td>609</td>\n",
       "      <td>0.045721</td>\n",
       "    </tr>\n",
       "    <tr>\n",
       "      <th>price</th>\n",
       "      <td>0</td>\n",
       "      <td>0.000000</td>\n",
       "    </tr>\n",
       "  </tbody>\n",
       "</table>\n",
       "</div>"
      ],
      "text/plain": [
       "              total   percent\n",
       "area_type         0  0.000000\n",
       "availability      0  0.000000\n",
       "location          1  0.000075\n",
       "size             16  0.001201\n",
       "society        5502  0.413063\n",
       "total_sqft        0  0.000000\n",
       "bath             73  0.005480\n",
       "balcony         609  0.045721\n",
       "price             0  0.000000"
      ]
     },
     "execution_count": 51,
     "metadata": {},
     "output_type": "execute_result"
    }
   ],
   "source": [
    "total=data.isnull().sum()\n",
    "percent=(data.isnull().sum()/data.isnull().count())\n",
    "missing_data=pd.concat([total,percent],axis=1,keys=['total','percent'])\n",
    "missing_data"
   ]
  },
  {
   "cell_type": "markdown",
   "metadata": {},
   "source": [
    "#### we will handle missing values of individual features during data exploration"
   ]
  },
  {
   "cell_type": "markdown",
   "metadata": {},
   "source": [
    "### Exploring 'area_type' variable"
   ]
  },
  {
   "cell_type": "code",
   "execution_count": 52,
   "metadata": {
    "scrolled": true
   },
   "outputs": [
    {
     "data": {
      "text/plain": [
       "Super built-up  Area    8790\n",
       "Built-up  Area          2418\n",
       "Plot  Area              2025\n",
       "Carpet  Area              87\n",
       "Name: area_type, dtype: int64"
      ]
     },
     "execution_count": 52,
     "metadata": {},
     "output_type": "execute_result"
    }
   ],
   "source": [
    "data['area_type'].value_counts()"
   ]
  },
  {
   "cell_type": "code",
   "execution_count": 53,
   "metadata": {
    "scrolled": true
   },
   "outputs": [
    {
     "data": {
      "text/plain": [
       "<matplotlib.axes._subplots.AxesSubplot at 0xcbe3908>"
      ]
     },
     "execution_count": 53,
     "metadata": {},
     "output_type": "execute_result"
    },
    {
     "data": {
      "image/png": "[encoded data removed]",
      "text/plain": [
       "<Figure size 432x288 with 1 Axes>"
      ]
     },
     "metadata": {
      "needs_background": "light"
     },
     "output_type": "display_data"
    }
   ],
   "source": [
    "sn.stripplot(x=data['area_type'],y=data['price'],data=data)"
   ]
  },
  {
   "cell_type": "markdown",
   "metadata": {},
   "source": [
    "#### Properties offered by Carpet area are seems to be less costly. Properties offered by Super built-up area and Plot area are looking more costly"
   ]
  },
  {
   "cell_type": "markdown",
   "metadata": {},
   "source": [
    "### lets perform EDA for 'availability' feature\n",
    "#### assuming data is prepared in the month of Jan2017, creating new feature 'waiting period in month'"
   ]
  },
  {
   "cell_type": "code",
   "execution_count": 54,
   "metadata": {},
   "outputs": [],
   "source": [
    "waiting=data['availability'].str.split(pat = \"-\",expand=True)\n",
    "data['waiting_year']=waiting[0]\n",
    "data['waiting_month']=waiting[1]\n",
    "data['waiting_period']=0\n",
    "data['waiting_year']=data['waiting_year'].replace(['Ready To Move','Immediate Possession','16','15','14'],17)\n",
    "data['waiting_month']=data['waiting_month'].fillna('Jan')"
   ]
  },
  {
   "cell_type": "code",
   "execution_count": 55,
   "metadata": {},
   "outputs": [],
   "source": [
    "data.loc[data['waiting_month'].str.contains('Jan'),'waiting_month1']=0\n",
    "data.loc[data['waiting_month'].str.contains('Feb'),'waiting_month1']=1\n",
    "data.loc[data['waiting_month'].str.contains('Mar'),'waiting_month1']=2\n",
    "data.loc[data['waiting_month'].str.contains('Apr'),'waiting_month1']=3\n",
    "data.loc[data['waiting_month'].str.contains('May'),'waiting_month1']=4\n",
    "data.loc[data['waiting_month'].str.contains('Jun'),'waiting_month1']=5\n",
    "data.loc[data['waiting_month'].str.contains('Jul'),'waiting_month1']=6\n",
    "data.loc[data['waiting_month'].str.contains('Aug'),'waiting_month1']=7\n",
    "data.loc[data['waiting_month'].str.contains('Sep'),'waiting_month1']=8\n",
    "data.loc[data['waiting_month'].str.contains('Oct'),'waiting_month1']=9\n",
    "data.loc[data['waiting_month'].str.contains('Nov'),'waiting_month1']=10\n",
    "data.loc[data['waiting_month'].str.contains('Dec'),'waiting_month1']=11"
   ]
  },
  {
   "cell_type": "code",
   "execution_count": 56,
   "metadata": {},
   "outputs": [],
   "source": [
    "data['waiting_period']=((data['waiting_year'].astype(int)-17)*12)+data['waiting_month1'].astype(int)"
   ]
  },
  {
   "cell_type": "code",
   "execution_count": 57,
   "metadata": {},
   "outputs": [],
   "source": [
    "data=data.drop(['availability','waiting_year','waiting_month','waiting_month1'],axis=1)"
   ]
  },
  {
   "cell_type": "code",
   "execution_count": 58,
   "metadata": {
    "scrolled": true
   },
   "outputs": [
    {
     "data": {
      "text/plain": [
       "<matplotlib.axes._subplots.AxesSubplot at 0xbf21208>"
      ]
     },
     "execution_count": 58,
     "metadata": {},
     "output_type": "execute_result"
    },
    {
     "data": {
      "image/png": "[encoded data removed]",
      "text/plain": [
       "<Figure size 432x288 with 1 Axes>"
      ]
     },
     "metadata": {
      "needs_background": "light"
     },
     "output_type": "display_data"
    }
   ],
   "source": [
    "sn.scatterplot(data['waiting_period'],data['price'])"
   ]
  },
  {
   "cell_type": "markdown",
   "metadata": {},
   "source": [
    "#### It can be clearly observe that ready to move properties are more costly. \n",
    "#### Again cost of property decreases as waiting period increases"
   ]
  },
  {
   "cell_type": "markdown",
   "metadata": {},
   "source": [
    "### exploring 'location' feature"
   ]
  },
  {
   "cell_type": "code",
   "execution_count": 59,
   "metadata": {
    "scrolled": true
   },
   "outputs": [
    {
     "data": {
      "text/plain": [
       "0        Electronic City Phase II\n",
       "1                Chikka Tirupathi\n",
       "2                     Uttarahalli\n",
       "3              Lingadheeranahalli\n",
       "4                        Kothanur\n",
       "                   ...           \n",
       "13315                  Whitefield\n",
       "13316               Richards Town\n",
       "13317       Raja Rajeshwari Nagar\n",
       "13318             Padmanabhanagar\n",
       "13319                Doddathoguru\n",
       "Name: location, Length: 13320, dtype: object"
      ]
     },
     "execution_count": 59,
     "metadata": {},
     "output_type": "execute_result"
    }
   ],
   "source": [
    "data.location"
   ]
  },
  {
   "cell_type": "code",
   "execution_count": 60,
   "metadata": {},
   "outputs": [
    {
     "data": {
      "text/plain": [
       "Whitefield              540\n",
       "Sarjapur  Road          399\n",
       "Electronic City         302\n",
       "Kanakpura Road          273\n",
       "Thanisandra             234\n",
       "                       ... \n",
       "Handenahalli              1\n",
       "Bharathnagar              1\n",
       "white field,kadugodi      1\n",
       "Haralur Road,             1\n",
       "Shauhardha Layout         1\n",
       "Name: location, Length: 1305, dtype: int64"
      ]
     },
     "execution_count": 60,
     "metadata": {},
     "output_type": "execute_result"
    }
   ],
   "source": [
    "data['location'].value_counts()"
   ]
  },
  {
   "cell_type": "markdown",
   "metadata": {},
   "source": [
    "#### we have 1305 different locations, which will create more dummy columns during model building\n",
    "#### changing location name to 'others' if location appears less than 10 times"
   ]
  },
  {
   "cell_type": "code",
   "execution_count": 61,
   "metadata": {},
   "outputs": [
    {
     "data": {
      "text/plain": [
       "location\n",
       "Dodsworth Layout       10\n",
       "Ganga Nagar            10\n",
       "Sadashiva Nagar        10\n",
       "Sector 1 HSR Layout    10\n",
       "Basapura               10\n",
       "                       ..\n",
       "LIC Colony              1\n",
       "Kuvempu Layout          1\n",
       "Kumbhena Agrahara       1\n",
       "Kudlu Village,          1\n",
       "1 Annasandrapalya       1\n",
       "Name: location, Length: 1054, dtype: int64"
      ]
     },
     "execution_count": 61,
     "metadata": {},
     "output_type": "execute_result"
    }
   ],
   "source": [
    "data.location=data['location'].astype(str)\n",
    "data.location=data['location'].apply(lambda x:x.strip())\n",
    "location_count=data.groupby('location')['location'].agg('count').sort_values(ascending=False)\n",
    "location_less_than_10=location_count[location_count<=10]\n",
    "location_less_than_10"
   ]
  },
  {
   "cell_type": "code",
   "execution_count": 62,
   "metadata": {},
   "outputs": [],
   "source": [
    "data.location=data.location.apply(lambda x:'others' if x in location_less_than_10 else x)"
   ]
  },
  {
   "cell_type": "markdown",
   "metadata": {},
   "source": [
    "### Lets perform EDA on 'size' variable"
   ]
  },
  {
   "cell_type": "code",
   "execution_count": 67,
   "metadata": {},
   "outputs": [],
   "source": [
    "data['size']=data['size'].astype(object)"
   ]
  },
  {
   "cell_type": "code",
   "execution_count": 68,
   "metadata": {},
   "outputs": [
    {
     "data": {
      "text/html": [
       "<div>\n",
       "<style scoped>\n",
       "    .dataframe tbody tr th:only-of-type {\n",
       "        vertical-align: middle;\n",
       "    }\n",
       "\n",
       "    .dataframe tbody tr th {\n",
       "        vertical-align: top;\n",
       "    }\n",
       "\n",
       "    .dataframe thead th {\n",
       "        text-align: right;\n",
       "    }\n",
       "</style>\n",
       "<table border=\"1\" class=\"dataframe\">\n",
       "  <thead>\n",
       "    <tr style=\"text-align: right;\">\n",
       "      <th></th>\n",
       "      <th>area_type</th>\n",
       "      <th>location</th>\n",
       "      <th>size</th>\n",
       "      <th>society</th>\n",
       "      <th>total_sqft</th>\n",
       "      <th>bath</th>\n",
       "      <th>balcony</th>\n",
       "      <th>price</th>\n",
       "      <th>waiting_period</th>\n",
       "    </tr>\n",
       "  </thead>\n",
       "  <tbody>\n",
       "    <tr>\n",
       "      <th>579</th>\n",
       "      <td>Plot  Area</td>\n",
       "      <td>Sarjapur  Road</td>\n",
       "      <td>NaN</td>\n",
       "      <td>Asiss B</td>\n",
       "      <td>1200 - 2400</td>\n",
       "      <td>NaN</td>\n",
       "      <td>NaN</td>\n",
       "      <td>34.185</td>\n",
       "      <td>0</td>\n",
       "    </tr>\n",
       "    <tr>\n",
       "      <th>1775</th>\n",
       "      <td>Plot  Area</td>\n",
       "      <td>others</td>\n",
       "      <td>NaN</td>\n",
       "      <td>Orana N</td>\n",
       "      <td>2000 - 5634</td>\n",
       "      <td>NaN</td>\n",
       "      <td>NaN</td>\n",
       "      <td>124.000</td>\n",
       "      <td>0</td>\n",
       "    </tr>\n",
       "    <tr>\n",
       "      <th>2264</th>\n",
       "      <td>Plot  Area</td>\n",
       "      <td>Banashankari</td>\n",
       "      <td>NaN</td>\n",
       "      <td>NaN</td>\n",
       "      <td>2400</td>\n",
       "      <td>NaN</td>\n",
       "      <td>NaN</td>\n",
       "      <td>460.000</td>\n",
       "      <td>0</td>\n",
       "    </tr>\n",
       "    <tr>\n",
       "      <th>2809</th>\n",
       "      <td>Plot  Area</td>\n",
       "      <td>Sarjapur  Road</td>\n",
       "      <td>NaN</td>\n",
       "      <td>AsdiaAr</td>\n",
       "      <td>1200 - 2400</td>\n",
       "      <td>NaN</td>\n",
       "      <td>NaN</td>\n",
       "      <td>28.785</td>\n",
       "      <td>0</td>\n",
       "    </tr>\n",
       "    <tr>\n",
       "      <th>2862</th>\n",
       "      <td>Plot  Area</td>\n",
       "      <td>Devanahalli</td>\n",
       "      <td>NaN</td>\n",
       "      <td>Ajleyor</td>\n",
       "      <td>1500 - 2400</td>\n",
       "      <td>NaN</td>\n",
       "      <td>NaN</td>\n",
       "      <td>46.800</td>\n",
       "      <td>0</td>\n",
       "    </tr>\n",
       "    <tr>\n",
       "      <th>5333</th>\n",
       "      <td>Plot  Area</td>\n",
       "      <td>Devanahalli</td>\n",
       "      <td>NaN</td>\n",
       "      <td>Emngs S</td>\n",
       "      <td>2100 - 5405</td>\n",
       "      <td>NaN</td>\n",
       "      <td>NaN</td>\n",
       "      <td>177.115</td>\n",
       "      <td>0</td>\n",
       "    </tr>\n",
       "    <tr>\n",
       "      <th>6423</th>\n",
       "      <td>Plot  Area</td>\n",
       "      <td>Whitefield</td>\n",
       "      <td>NaN</td>\n",
       "      <td>SRniaGa</td>\n",
       "      <td>2324</td>\n",
       "      <td>NaN</td>\n",
       "      <td>NaN</td>\n",
       "      <td>26.730</td>\n",
       "      <td>0</td>\n",
       "    </tr>\n",
       "    <tr>\n",
       "      <th>6636</th>\n",
       "      <td>Plot  Area</td>\n",
       "      <td>Jigani</td>\n",
       "      <td>NaN</td>\n",
       "      <td>S2enste</td>\n",
       "      <td>1500</td>\n",
       "      <td>NaN</td>\n",
       "      <td>NaN</td>\n",
       "      <td>25.490</td>\n",
       "      <td>0</td>\n",
       "    </tr>\n",
       "    <tr>\n",
       "      <th>6719</th>\n",
       "      <td>Plot  Area</td>\n",
       "      <td>Hoskote</td>\n",
       "      <td>NaN</td>\n",
       "      <td>SJowsn</td>\n",
       "      <td>800 - 2660</td>\n",
       "      <td>NaN</td>\n",
       "      <td>NaN</td>\n",
       "      <td>28.545</td>\n",
       "      <td>0</td>\n",
       "    </tr>\n",
       "    <tr>\n",
       "      <th>7680</th>\n",
       "      <td>Plot  Area</td>\n",
       "      <td>Kasavanhalli</td>\n",
       "      <td>NaN</td>\n",
       "      <td>NaN</td>\n",
       "      <td>5000</td>\n",
       "      <td>NaN</td>\n",
       "      <td>NaN</td>\n",
       "      <td>400.000</td>\n",
       "      <td>0</td>\n",
       "    </tr>\n",
       "    <tr>\n",
       "      <th>8306</th>\n",
       "      <td>Plot  Area</td>\n",
       "      <td>Anekal</td>\n",
       "      <td>NaN</td>\n",
       "      <td>Vaensnd</td>\n",
       "      <td>1453</td>\n",
       "      <td>NaN</td>\n",
       "      <td>NaN</td>\n",
       "      <td>16.500</td>\n",
       "      <td>0</td>\n",
       "    </tr>\n",
       "    <tr>\n",
       "      <th>8565</th>\n",
       "      <td>Plot  Area</td>\n",
       "      <td>others</td>\n",
       "      <td>NaN</td>\n",
       "      <td>Ocezes</td>\n",
       "      <td>2000</td>\n",
       "      <td>NaN</td>\n",
       "      <td>NaN</td>\n",
       "      <td>120.000</td>\n",
       "      <td>0</td>\n",
       "    </tr>\n",
       "    <tr>\n",
       "      <th>8703</th>\n",
       "      <td>Plot  Area</td>\n",
       "      <td>Mysore Road</td>\n",
       "      <td>NaN</td>\n",
       "      <td>Naoden</td>\n",
       "      <td>1200 - 2400</td>\n",
       "      <td>NaN</td>\n",
       "      <td>NaN</td>\n",
       "      <td>42.300</td>\n",
       "      <td>0</td>\n",
       "    </tr>\n",
       "    <tr>\n",
       "      <th>10634</th>\n",
       "      <td>Plot  Area</td>\n",
       "      <td>others</td>\n",
       "      <td>NaN</td>\n",
       "      <td>NaN</td>\n",
       "      <td>1575</td>\n",
       "      <td>NaN</td>\n",
       "      <td>NaN</td>\n",
       "      <td>31.110</td>\n",
       "      <td>0</td>\n",
       "    </tr>\n",
       "    <tr>\n",
       "      <th>11019</th>\n",
       "      <td>Plot  Area</td>\n",
       "      <td>Yelahanka</td>\n",
       "      <td>NaN</td>\n",
       "      <td>Saaveha</td>\n",
       "      <td>1200 - 1800</td>\n",
       "      <td>NaN</td>\n",
       "      <td>NaN</td>\n",
       "      <td>12.750</td>\n",
       "      <td>0</td>\n",
       "    </tr>\n",
       "    <tr>\n",
       "      <th>11569</th>\n",
       "      <td>Plot  Area</td>\n",
       "      <td>Hosur Road</td>\n",
       "      <td>NaN</td>\n",
       "      <td>AVeldun</td>\n",
       "      <td>1350</td>\n",
       "      <td>NaN</td>\n",
       "      <td>NaN</td>\n",
       "      <td>8.440</td>\n",
       "      <td>0</td>\n",
       "    </tr>\n",
       "  </tbody>\n",
       "</table>\n",
       "</div>"
      ],
      "text/plain": [
       "        area_type        location size  society   total_sqft  bath  balcony  \\\n",
       "579    Plot  Area  Sarjapur  Road  NaN  Asiss B  1200 - 2400   NaN      NaN   \n",
       "1775   Plot  Area          others  NaN  Orana N  2000 - 5634   NaN      NaN   \n",
       "2264   Plot  Area    Banashankari  NaN      NaN         2400   NaN      NaN   \n",
       "2809   Plot  Area  Sarjapur  Road  NaN  AsdiaAr  1200 - 2400   NaN      NaN   \n",
       "2862   Plot  Area     Devanahalli  NaN  Ajleyor  1500 - 2400   NaN      NaN   \n",
       "5333   Plot  Area     Devanahalli  NaN  Emngs S  2100 - 5405   NaN      NaN   \n",
       "6423   Plot  Area      Whitefield  NaN  SRniaGa         2324   NaN      NaN   \n",
       "6636   Plot  Area          Jigani  NaN  S2enste         1500   NaN      NaN   \n",
       "6719   Plot  Area         Hoskote  NaN  SJowsn    800 - 2660   NaN      NaN   \n",
       "7680   Plot  Area    Kasavanhalli  NaN      NaN         5000   NaN      NaN   \n",
       "8306   Plot  Area          Anekal  NaN  Vaensnd         1453   NaN      NaN   \n",
       "8565   Plot  Area          others  NaN  Ocezes          2000   NaN      NaN   \n",
       "8703   Plot  Area     Mysore Road  NaN  Naoden   1200 - 2400   NaN      NaN   \n",
       "10634  Plot  Area          others  NaN      NaN         1575   NaN      NaN   \n",
       "11019  Plot  Area       Yelahanka  NaN  Saaveha  1200 - 1800   NaN      NaN   \n",
       "11569  Plot  Area      Hosur Road  NaN  AVeldun         1350   NaN      NaN   \n",
       "\n",
       "         price  waiting_period  \n",
       "579     34.185               0  \n",
       "1775   124.000               0  \n",
       "2264   460.000               0  \n",
       "2809    28.785               0  \n",
       "2862    46.800               0  \n",
       "5333   177.115               0  \n",
       "6423    26.730               0  \n",
       "6636    25.490               0  \n",
       "6719    28.545               0  \n",
       "7680   400.000               0  \n",
       "8306    16.500               0  \n",
       "8565   120.000               0  \n",
       "8703    42.300               0  \n",
       "10634   31.110               0  \n",
       "11019   12.750               0  \n",
       "11569    8.440               0  "
      ]
     },
     "execution_count": 68,
     "metadata": {},
     "output_type": "execute_result"
    }
   ],
   "source": [
    "data.loc[data['size'].isnull()]"
   ]
  },
  {
   "cell_type": "markdown",
   "metadata": {},
   "source": [
    "#### All NA values are present for 'plot_area_type'. lets impute NA's based on 'area-type' and 'price' feature"
   ]
  },
  {
   "cell_type": "code",
   "execution_count": 69,
   "metadata": {},
   "outputs": [
    {
     "data": {
      "text/html": [
       "<div>\n",
       "<style scoped>\n",
       "    .dataframe tbody tr th:only-of-type {\n",
       "        vertical-align: middle;\n",
       "    }\n",
       "\n",
       "    .dataframe tbody tr th {\n",
       "        vertical-align: top;\n",
       "    }\n",
       "\n",
       "    .dataframe thead th {\n",
       "        text-align: right;\n",
       "    }\n",
       "</style>\n",
       "<table border=\"1\" class=\"dataframe\">\n",
       "  <thead>\n",
       "    <tr style=\"text-align: right;\">\n",
       "      <th>area_type</th>\n",
       "      <th>Built-up  Area</th>\n",
       "      <th>Carpet  Area</th>\n",
       "      <th>Plot  Area</th>\n",
       "      <th>Super built-up  Area</th>\n",
       "    </tr>\n",
       "    <tr>\n",
       "      <th>size</th>\n",
       "      <th></th>\n",
       "      <th></th>\n",
       "      <th></th>\n",
       "      <th></th>\n",
       "    </tr>\n",
       "  </thead>\n",
       "  <tbody>\n",
       "    <tr>\n",
       "      <th>1 BHK</th>\n",
       "      <td>56.931879</td>\n",
       "      <td>43.885833</td>\n",
       "      <td>70.396429</td>\n",
       "      <td>36.351214</td>\n",
       "    </tr>\n",
       "    <tr>\n",
       "      <th>1 RK</th>\n",
       "      <td>28.625000</td>\n",
       "      <td>0.000000</td>\n",
       "      <td>0.000000</td>\n",
       "      <td>27.898889</td>\n",
       "    </tr>\n",
       "    <tr>\n",
       "      <th>10 BHK</th>\n",
       "      <td>200.000000</td>\n",
       "      <td>0.000000</td>\n",
       "      <td>594.090909</td>\n",
       "      <td>342.500000</td>\n",
       "    </tr>\n",
       "    <tr>\n",
       "      <th>11 BHK</th>\n",
       "      <td>0.000000</td>\n",
       "      <td>0.000000</td>\n",
       "      <td>160.000000</td>\n",
       "      <td>255.000000</td>\n",
       "    </tr>\n",
       "    <tr>\n",
       "      <th>12 BHK</th>\n",
       "      <td>0.000000</td>\n",
       "      <td>0.000000</td>\n",
       "      <td>300.000000</td>\n",
       "      <td>0.000000</td>\n",
       "    </tr>\n",
       "    <tr>\n",
       "      <th>13 BHK</th>\n",
       "      <td>0.000000</td>\n",
       "      <td>0.000000</td>\n",
       "      <td>0.000000</td>\n",
       "      <td>275.000000</td>\n",
       "    </tr>\n",
       "    <tr>\n",
       "      <th>14 BHK</th>\n",
       "      <td>0.000000</td>\n",
       "      <td>0.000000</td>\n",
       "      <td>0.000000</td>\n",
       "      <td>125.000000</td>\n",
       "    </tr>\n",
       "    <tr>\n",
       "      <th>16 BHK</th>\n",
       "      <td>0.000000</td>\n",
       "      <td>0.000000</td>\n",
       "      <td>0.000000</td>\n",
       "      <td>550.000000</td>\n",
       "    </tr>\n",
       "    <tr>\n",
       "      <th>18 BHK</th>\n",
       "      <td>0.000000</td>\n",
       "      <td>0.000000</td>\n",
       "      <td>200.000000</td>\n",
       "      <td>0.000000</td>\n",
       "    </tr>\n",
       "    <tr>\n",
       "      <th>19 BHK</th>\n",
       "      <td>0.000000</td>\n",
       "      <td>0.000000</td>\n",
       "      <td>0.000000</td>\n",
       "      <td>490.000000</td>\n",
       "    </tr>\n",
       "    <tr>\n",
       "      <th>2 BHK</th>\n",
       "      <td>56.914291</td>\n",
       "      <td>57.667500</td>\n",
       "      <td>93.347801</td>\n",
       "      <td>57.970348</td>\n",
       "    </tr>\n",
       "    <tr>\n",
       "      <th>27 BHK</th>\n",
       "      <td>0.000000</td>\n",
       "      <td>0.000000</td>\n",
       "      <td>0.000000</td>\n",
       "      <td>230.000000</td>\n",
       "    </tr>\n",
       "    <tr>\n",
       "      <th>3 BHK</th>\n",
       "      <td>106.626457</td>\n",
       "      <td>105.603710</td>\n",
       "      <td>158.444967</td>\n",
       "      <td>105.979155</td>\n",
       "    </tr>\n",
       "    <tr>\n",
       "      <th>4 BHK</th>\n",
       "      <td>237.644222</td>\n",
       "      <td>146.571429</td>\n",
       "      <td>272.358665</td>\n",
       "      <td>290.983079</td>\n",
       "    </tr>\n",
       "    <tr>\n",
       "      <th>43 BHK</th>\n",
       "      <td>0.000000</td>\n",
       "      <td>0.000000</td>\n",
       "      <td>660.000000</td>\n",
       "      <td>0.000000</td>\n",
       "    </tr>\n",
       "    <tr>\n",
       "      <th>5 BHK</th>\n",
       "      <td>207.908451</td>\n",
       "      <td>240.000000</td>\n",
       "      <td>261.602941</td>\n",
       "      <td>499.315217</td>\n",
       "    </tr>\n",
       "    <tr>\n",
       "      <th>6 BHK</th>\n",
       "      <td>160.702128</td>\n",
       "      <td>130.000000</td>\n",
       "      <td>244.483660</td>\n",
       "      <td>219.950000</td>\n",
       "    </tr>\n",
       "    <tr>\n",
       "      <th>7 BHK</th>\n",
       "      <td>185.500000</td>\n",
       "      <td>100.000000</td>\n",
       "      <td>222.333333</td>\n",
       "      <td>474.923077</td>\n",
       "    </tr>\n",
       "    <tr>\n",
       "      <th>8 BHK</th>\n",
       "      <td>138.875000</td>\n",
       "      <td>145.000000</td>\n",
       "      <td>224.565217</td>\n",
       "      <td>203.333333</td>\n",
       "    </tr>\n",
       "    <tr>\n",
       "      <th>9 BHK</th>\n",
       "      <td>192.857143</td>\n",
       "      <td>500.000000</td>\n",
       "      <td>245.829268</td>\n",
       "      <td>227.200000</td>\n",
       "    </tr>\n",
       "  </tbody>\n",
       "</table>\n",
       "</div>"
      ],
      "text/plain": [
       "area_type  Built-up  Area  Carpet  Area  Plot  Area  Super built-up  Area\n",
       "size                                                                     \n",
       "1 BHK           56.931879     43.885833   70.396429             36.351214\n",
       "1 RK            28.625000      0.000000    0.000000             27.898889\n",
       "10 BHK         200.000000      0.000000  594.090909            342.500000\n",
       "11 BHK           0.000000      0.000000  160.000000            255.000000\n",
       "12 BHK           0.000000      0.000000  300.000000              0.000000\n",
       "13 BHK           0.000000      0.000000    0.000000            275.000000\n",
       "14 BHK           0.000000      0.000000    0.000000            125.000000\n",
       "16 BHK           0.000000      0.000000    0.000000            550.000000\n",
       "18 BHK           0.000000      0.000000  200.000000              0.000000\n",
       "19 BHK           0.000000      0.000000    0.000000            490.000000\n",
       "2 BHK           56.914291     57.667500   93.347801             57.970348\n",
       "27 BHK           0.000000      0.000000    0.000000            230.000000\n",
       "3 BHK          106.626457    105.603710  158.444967            105.979155\n",
       "4 BHK          237.644222    146.571429  272.358665            290.983079\n",
       "43 BHK           0.000000      0.000000  660.000000              0.000000\n",
       "5 BHK          207.908451    240.000000  261.602941            499.315217\n",
       "6 BHK          160.702128    130.000000  244.483660            219.950000\n",
       "7 BHK          185.500000    100.000000  222.333333            474.923077\n",
       "8 BHK          138.875000    145.000000  224.565217            203.333333\n",
       "9 BHK          192.857143    500.000000  245.829268            227.200000"
      ]
     },
     "execution_count": 69,
     "metadata": {},
     "output_type": "execute_result"
    }
   ],
   "source": [
    "data['size']=data['size'].str.replace('Bedroom','BHK')\n",
    "pd.pivot_table(data,index='size',columns='area_type',values='price',aggfunc='mean',fill_value=0)"
   ]
  },
  {
   "cell_type": "code",
   "execution_count": 70,
   "metadata": {},
   "outputs": [],
   "source": [
    "data.loc[((data['size'].isnull()) & (data['price'] <= 70)),'size']='1 BHK'\n",
    "data.loc[((data['size'].isnull()) & (data['price'] <= 150)),'size']='2 BHK'\n",
    "data.loc[((data['size'].isnull()) & (data['price'] <= 200)),'size']='3 BHK'\n",
    "data.loc[((data['size'].isnull()) & (data['price'] <= 500)),'size']='10 BHK'"
   ]
  },
  {
   "cell_type": "markdown",
   "metadata": {},
   "source": [
    "#### lets convert 'size' variable into numeric by removing BHK from entire column"
   ]
  },
  {
   "cell_type": "code",
   "execution_count": 71,
   "metadata": {},
   "outputs": [],
   "source": [
    "data['size']=data['size'].apply(lambda x:int(x.split(' ')[0]))"
   ]
  },
  {
   "cell_type": "code",
   "execution_count": 72,
   "metadata": {},
   "outputs": [
    {
     "data": {
      "text/plain": [
       "<seaborn.axisgrid.FacetGrid at 0xbc70488>"
      ]
     },
     "execution_count": 72,
     "metadata": {},
     "output_type": "execute_result"
    },
    {
     "data": {
      "image/png": "[encoded data removed]",
      "text/plain": [
       "<Figure size 360x360 with 1 Axes>"
      ]
     },
     "metadata": {
      "needs_background": "light"
     },
     "output_type": "display_data"
    }
   ],
   "source": [
    "sn.catplot('size','price',jitter=False,data=data)"
   ]
  },
  {
   "cell_type": "markdown",
   "metadata": {},
   "source": [
    "#### It seems that 4BHK and 5BHK flats are more costly. Again few extreme values are visible which need to be remove before model building"
   ]
  },
  {
   "cell_type": "markdown",
   "metadata": {},
   "source": [
    "### Lets explore 'total_sqft' variable first\n",
    "#### finding unique values for total sqft variable as it seems that few values are pseudonumeric"
   ]
  },
  {
   "cell_type": "code",
   "execution_count": 73,
   "metadata": {},
   "outputs": [],
   "source": [
    "data['total_sqft']=data['total_sqft'].astype(str)"
   ]
  },
  {
   "cell_type": "markdown",
   "metadata": {},
   "source": [
    "##### we have many pseudonumeric values for eg. 1133-1384, 34.5sq.meter etc\n",
    "#### lets extract numeric values from special area units like 'Sq. Yard, Sq. Meter' and convert it to 'Sq Feet'\n",
    "#### also we will drop rows with area dimensions given in 'acres, gunthas, perch' as they are showing land prices.\n",
    "#### lets change datatype to numeric for pseudonumeric values(for eg. '1133 - 1384') by taking avg of two values\n",
    "#### before that lets find which values are pseudonumeric"
   ]
  },
  {
   "cell_type": "code",
   "execution_count": 74,
   "metadata": {},
   "outputs": [
    {
     "data": {
      "text/html": [
       "<div>\n",
       "<style scoped>\n",
       "    .dataframe tbody tr th:only-of-type {\n",
       "        vertical-align: middle;\n",
       "    }\n",
       "\n",
       "    .dataframe tbody tr th {\n",
       "        vertical-align: top;\n",
       "    }\n",
       "\n",
       "    .dataframe thead th {\n",
       "        text-align: right;\n",
       "    }\n",
       "</style>\n",
       "<table border=\"1\" class=\"dataframe\">\n",
       "  <thead>\n",
       "    <tr style=\"text-align: right;\">\n",
       "      <th></th>\n",
       "      <th>area_type</th>\n",
       "      <th>location</th>\n",
       "      <th>size</th>\n",
       "      <th>society</th>\n",
       "      <th>total_sqft</th>\n",
       "      <th>bath</th>\n",
       "      <th>balcony</th>\n",
       "      <th>price</th>\n",
       "      <th>waiting_period</th>\n",
       "    </tr>\n",
       "  </thead>\n",
       "  <tbody>\n",
       "    <tr>\n",
       "      <th>410</th>\n",
       "      <td>Super built-up  Area</td>\n",
       "      <td>Kengeri</td>\n",
       "      <td>1</td>\n",
       "      <td>NaN</td>\n",
       "      <td>34.46Sq. Meter</td>\n",
       "      <td>1.0</td>\n",
       "      <td>0.0</td>\n",
       "      <td>18.50</td>\n",
       "      <td>0</td>\n",
       "    </tr>\n",
       "    <tr>\n",
       "      <th>648</th>\n",
       "      <td>Built-up  Area</td>\n",
       "      <td>Arekere</td>\n",
       "      <td>9</td>\n",
       "      <td>NaN</td>\n",
       "      <td>4125Perch</td>\n",
       "      <td>9.0</td>\n",
       "      <td>NaN</td>\n",
       "      <td>265.00</td>\n",
       "      <td>0</td>\n",
       "    </tr>\n",
       "    <tr>\n",
       "      <th>775</th>\n",
       "      <td>Built-up  Area</td>\n",
       "      <td>others</td>\n",
       "      <td>1</td>\n",
       "      <td>NaN</td>\n",
       "      <td>1000Sq. Meter</td>\n",
       "      <td>2.0</td>\n",
       "      <td>1.0</td>\n",
       "      <td>93.00</td>\n",
       "      <td>0</td>\n",
       "    </tr>\n",
       "    <tr>\n",
       "      <th>872</th>\n",
       "      <td>Super built-up  Area</td>\n",
       "      <td>others</td>\n",
       "      <td>2</td>\n",
       "      <td>NaN</td>\n",
       "      <td>1100Sq. Yards</td>\n",
       "      <td>2.0</td>\n",
       "      <td>NaN</td>\n",
       "      <td>45.00</td>\n",
       "      <td>0</td>\n",
       "    </tr>\n",
       "    <tr>\n",
       "      <th>1019</th>\n",
       "      <td>Plot  Area</td>\n",
       "      <td>others</td>\n",
       "      <td>1</td>\n",
       "      <td>NaN</td>\n",
       "      <td>5.31Acres</td>\n",
       "      <td>1.0</td>\n",
       "      <td>0.0</td>\n",
       "      <td>110.00</td>\n",
       "      <td>14</td>\n",
       "    </tr>\n",
       "    <tr>\n",
       "      <th>1086</th>\n",
       "      <td>Plot  Area</td>\n",
       "      <td>others</td>\n",
       "      <td>2</td>\n",
       "      <td>NaN</td>\n",
       "      <td>30Acres</td>\n",
       "      <td>2.0</td>\n",
       "      <td>2.0</td>\n",
       "      <td>29.50</td>\n",
       "      <td>26</td>\n",
       "    </tr>\n",
       "    <tr>\n",
       "      <th>1400</th>\n",
       "      <td>Super built-up  Area</td>\n",
       "      <td>Chamrajpet</td>\n",
       "      <td>9</td>\n",
       "      <td>NaN</td>\n",
       "      <td>716Sq. Meter</td>\n",
       "      <td>9.0</td>\n",
       "      <td>1.0</td>\n",
       "      <td>296.00</td>\n",
       "      <td>0</td>\n",
       "    </tr>\n",
       "    <tr>\n",
       "      <th>1712</th>\n",
       "      <td>Plot  Area</td>\n",
       "      <td>others</td>\n",
       "      <td>3</td>\n",
       "      <td>CoiewSy</td>\n",
       "      <td>1500Sq. Meter</td>\n",
       "      <td>3.0</td>\n",
       "      <td>1.0</td>\n",
       "      <td>95.00</td>\n",
       "      <td>0</td>\n",
       "    </tr>\n",
       "    <tr>\n",
       "      <th>1743</th>\n",
       "      <td>Super built-up  Area</td>\n",
       "      <td>Hosa Road</td>\n",
       "      <td>3</td>\n",
       "      <td>Sosisic</td>\n",
       "      <td>142.61Sq. Meter</td>\n",
       "      <td>3.0</td>\n",
       "      <td>1.0</td>\n",
       "      <td>115.00</td>\n",
       "      <td>26</td>\n",
       "    </tr>\n",
       "    <tr>\n",
       "      <th>1821</th>\n",
       "      <td>Plot  Area</td>\n",
       "      <td>Sarjapur</td>\n",
       "      <td>3</td>\n",
       "      <td>Inensba</td>\n",
       "      <td>1574Sq. Yards</td>\n",
       "      <td>3.0</td>\n",
       "      <td>1.0</td>\n",
       "      <td>76.00</td>\n",
       "      <td>0</td>\n",
       "    </tr>\n",
       "    <tr>\n",
       "      <th>2310</th>\n",
       "      <td>Super built-up  Area</td>\n",
       "      <td>Whitefield</td>\n",
       "      <td>4</td>\n",
       "      <td>Haestt</td>\n",
       "      <td>361.33Sq. Yards</td>\n",
       "      <td>4.0</td>\n",
       "      <td>NaN</td>\n",
       "      <td>270.00</td>\n",
       "      <td>0</td>\n",
       "    </tr>\n",
       "    <tr>\n",
       "      <th>2881</th>\n",
       "      <td>Built-up  Area</td>\n",
       "      <td>others</td>\n",
       "      <td>2</td>\n",
       "      <td>PSterAs</td>\n",
       "      <td>117Sq. Yards</td>\n",
       "      <td>2.0</td>\n",
       "      <td>2.0</td>\n",
       "      <td>38.00</td>\n",
       "      <td>0</td>\n",
       "    </tr>\n",
       "    <tr>\n",
       "      <th>3228</th>\n",
       "      <td>Built-up  Area</td>\n",
       "      <td>others</td>\n",
       "      <td>5</td>\n",
       "      <td>NaN</td>\n",
       "      <td>3040Sq. Meter</td>\n",
       "      <td>5.0</td>\n",
       "      <td>1.0</td>\n",
       "      <td>140.00</td>\n",
       "      <td>0</td>\n",
       "    </tr>\n",
       "    <tr>\n",
       "      <th>3285</th>\n",
       "      <td>Plot  Area</td>\n",
       "      <td>Whitefield</td>\n",
       "      <td>4</td>\n",
       "      <td>Prtates</td>\n",
       "      <td>500Sq. Yards</td>\n",
       "      <td>4.0</td>\n",
       "      <td>2.0</td>\n",
       "      <td>378.00</td>\n",
       "      <td>16</td>\n",
       "    </tr>\n",
       "    <tr>\n",
       "      <th>4113</th>\n",
       "      <td>Super built-up  Area</td>\n",
       "      <td>BTM Layout</td>\n",
       "      <td>3</td>\n",
       "      <td>NaN</td>\n",
       "      <td>167Sq. Meter</td>\n",
       "      <td>3.0</td>\n",
       "      <td>2.0</td>\n",
       "      <td>10.00</td>\n",
       "      <td>12</td>\n",
       "    </tr>\n",
       "    <tr>\n",
       "      <th>4293</th>\n",
       "      <td>Built-up  Area</td>\n",
       "      <td>Bannerghatta Road</td>\n",
       "      <td>4</td>\n",
       "      <td>NaN</td>\n",
       "      <td>315Sq. Yards</td>\n",
       "      <td>5.0</td>\n",
       "      <td>NaN</td>\n",
       "      <td>260.00</td>\n",
       "      <td>0</td>\n",
       "    </tr>\n",
       "    <tr>\n",
       "      <th>5453</th>\n",
       "      <td>Plot  Area</td>\n",
       "      <td>others</td>\n",
       "      <td>6</td>\n",
       "      <td>NaN</td>\n",
       "      <td>3Cents</td>\n",
       "      <td>6.0</td>\n",
       "      <td>3.0</td>\n",
       "      <td>75.00</td>\n",
       "      <td>0</td>\n",
       "    </tr>\n",
       "    <tr>\n",
       "      <th>5537</th>\n",
       "      <td>Built-up  Area</td>\n",
       "      <td>Frazer Town</td>\n",
       "      <td>3</td>\n",
       "      <td>CaaveEn</td>\n",
       "      <td>188.89Sq. Yards</td>\n",
       "      <td>3.0</td>\n",
       "      <td>1.0</td>\n",
       "      <td>180.00</td>\n",
       "      <td>0</td>\n",
       "    </tr>\n",
       "    <tr>\n",
       "      <th>5631</th>\n",
       "      <td>Super built-up  Area</td>\n",
       "      <td>Thanisandra</td>\n",
       "      <td>3</td>\n",
       "      <td>Soitya</td>\n",
       "      <td>204Sq. Meter</td>\n",
       "      <td>4.0</td>\n",
       "      <td>2.0</td>\n",
       "      <td>185.00</td>\n",
       "      <td>0</td>\n",
       "    </tr>\n",
       "    <tr>\n",
       "      <th>5668</th>\n",
       "      <td>Built-up  Area</td>\n",
       "      <td>Judicial Layout</td>\n",
       "      <td>5</td>\n",
       "      <td>NaN</td>\n",
       "      <td>45Sq. Yards</td>\n",
       "      <td>6.0</td>\n",
       "      <td>3.0</td>\n",
       "      <td>400.00</td>\n",
       "      <td>0</td>\n",
       "    </tr>\n",
       "    <tr>\n",
       "      <th>5708</th>\n",
       "      <td>Plot  Area</td>\n",
       "      <td>Jigani</td>\n",
       "      <td>4</td>\n",
       "      <td>Ceeury</td>\n",
       "      <td>133.3Sq. Yards</td>\n",
       "      <td>3.0</td>\n",
       "      <td>2.0</td>\n",
       "      <td>160.00</td>\n",
       "      <td>0</td>\n",
       "    </tr>\n",
       "    <tr>\n",
       "      <th>5976</th>\n",
       "      <td>Built-up  Area</td>\n",
       "      <td>1st Phase JP Nagar</td>\n",
       "      <td>1</td>\n",
       "      <td>Opamaan</td>\n",
       "      <td>78.03Sq. Meter</td>\n",
       "      <td>1.0</td>\n",
       "      <td>1.0</td>\n",
       "      <td>63.00</td>\n",
       "      <td>0</td>\n",
       "    </tr>\n",
       "    <tr>\n",
       "      <th>6268</th>\n",
       "      <td>Built-up  Area</td>\n",
       "      <td>others</td>\n",
       "      <td>2</td>\n",
       "      <td>NaN</td>\n",
       "      <td>122Sq. Yards</td>\n",
       "      <td>2.0</td>\n",
       "      <td>0.0</td>\n",
       "      <td>48.00</td>\n",
       "      <td>0</td>\n",
       "    </tr>\n",
       "    <tr>\n",
       "      <th>6303</th>\n",
       "      <td>Built-up  Area</td>\n",
       "      <td>JP Nagar</td>\n",
       "      <td>3</td>\n",
       "      <td>NaN</td>\n",
       "      <td>84.53Sq. Meter</td>\n",
       "      <td>3.0</td>\n",
       "      <td>1.0</td>\n",
       "      <td>69.34</td>\n",
       "      <td>0</td>\n",
       "    </tr>\n",
       "    <tr>\n",
       "      <th>6333</th>\n",
       "      <td>Plot  Area</td>\n",
       "      <td>others</td>\n",
       "      <td>2</td>\n",
       "      <td>NaN</td>\n",
       "      <td>2.09Acres</td>\n",
       "      <td>2.0</td>\n",
       "      <td>0.0</td>\n",
       "      <td>200.00</td>\n",
       "      <td>0</td>\n",
       "    </tr>\n",
       "    <tr>\n",
       "      <th>6552</th>\n",
       "      <td>Plot  Area</td>\n",
       "      <td>others</td>\n",
       "      <td>5</td>\n",
       "      <td>NaN</td>\n",
       "      <td>24Guntha</td>\n",
       "      <td>6.0</td>\n",
       "      <td>2.0</td>\n",
       "      <td>550.00</td>\n",
       "      <td>0</td>\n",
       "    </tr>\n",
       "    <tr>\n",
       "      <th>6592</th>\n",
       "      <td>Built-up  Area</td>\n",
       "      <td>others</td>\n",
       "      <td>4</td>\n",
       "      <td>NaN</td>\n",
       "      <td>697Sq. Meter</td>\n",
       "      <td>4.0</td>\n",
       "      <td>2.0</td>\n",
       "      <td>211.00</td>\n",
       "      <td>0</td>\n",
       "    </tr>\n",
       "    <tr>\n",
       "      <th>6953</th>\n",
       "      <td>Super built-up  Area</td>\n",
       "      <td>Hosa Road</td>\n",
       "      <td>3</td>\n",
       "      <td>Sosisic</td>\n",
       "      <td>142.61Sq. Meter</td>\n",
       "      <td>3.0</td>\n",
       "      <td>1.0</td>\n",
       "      <td>109.00</td>\n",
       "      <td>19</td>\n",
       "    </tr>\n",
       "    <tr>\n",
       "      <th>7001</th>\n",
       "      <td>Plot  Area</td>\n",
       "      <td>Thyagaraja Nagar</td>\n",
       "      <td>8</td>\n",
       "      <td>NaN</td>\n",
       "      <td>1500Cents</td>\n",
       "      <td>6.0</td>\n",
       "      <td>2.0</td>\n",
       "      <td>290.00</td>\n",
       "      <td>0</td>\n",
       "    </tr>\n",
       "    <tr>\n",
       "      <th>7248</th>\n",
       "      <td>Built-up  Area</td>\n",
       "      <td>Hulimavu</td>\n",
       "      <td>2</td>\n",
       "      <td>NaN</td>\n",
       "      <td>132Sq. Yards</td>\n",
       "      <td>2.0</td>\n",
       "      <td>3.0</td>\n",
       "      <td>46.00</td>\n",
       "      <td>0</td>\n",
       "    </tr>\n",
       "    <tr>\n",
       "      <th>7334</th>\n",
       "      <td>Plot  Area</td>\n",
       "      <td>Kanakpura Road</td>\n",
       "      <td>1</td>\n",
       "      <td>NaN</td>\n",
       "      <td>2Acres</td>\n",
       "      <td>1.0</td>\n",
       "      <td>0.0</td>\n",
       "      <td>125.00</td>\n",
       "      <td>0</td>\n",
       "    </tr>\n",
       "    <tr>\n",
       "      <th>7520</th>\n",
       "      <td>Super built-up  Area</td>\n",
       "      <td>Doddaballapur</td>\n",
       "      <td>3</td>\n",
       "      <td>NaN</td>\n",
       "      <td>1100Sq. Meter</td>\n",
       "      <td>2.0</td>\n",
       "      <td>1.0</td>\n",
       "      <td>48.00</td>\n",
       "      <td>0</td>\n",
       "    </tr>\n",
       "    <tr>\n",
       "      <th>7607</th>\n",
       "      <td>Plot  Area</td>\n",
       "      <td>Bommenahalli</td>\n",
       "      <td>3</td>\n",
       "      <td>Prood G</td>\n",
       "      <td>15Acres</td>\n",
       "      <td>3.0</td>\n",
       "      <td>1.0</td>\n",
       "      <td>217.00</td>\n",
       "      <td>0</td>\n",
       "    </tr>\n",
       "    <tr>\n",
       "      <th>7726</th>\n",
       "      <td>Plot  Area</td>\n",
       "      <td>Kanakpura Road</td>\n",
       "      <td>1</td>\n",
       "      <td>NaN</td>\n",
       "      <td>1.26Acres</td>\n",
       "      <td>1.0</td>\n",
       "      <td>0.0</td>\n",
       "      <td>125.00</td>\n",
       "      <td>0</td>\n",
       "    </tr>\n",
       "    <tr>\n",
       "      <th>8273</th>\n",
       "      <td>Built-up  Area</td>\n",
       "      <td>others</td>\n",
       "      <td>3</td>\n",
       "      <td>NaN</td>\n",
       "      <td>151.11Sq. Yards</td>\n",
       "      <td>2.0</td>\n",
       "      <td>0.0</td>\n",
       "      <td>150.00</td>\n",
       "      <td>0</td>\n",
       "    </tr>\n",
       "    <tr>\n",
       "      <th>9423</th>\n",
       "      <td>Plot  Area</td>\n",
       "      <td>Ramamurthy Nagar</td>\n",
       "      <td>1</td>\n",
       "      <td>NaN</td>\n",
       "      <td>1Grounds</td>\n",
       "      <td>1.0</td>\n",
       "      <td>1.0</td>\n",
       "      <td>48.00</td>\n",
       "      <td>0</td>\n",
       "    </tr>\n",
       "    <tr>\n",
       "      <th>9519</th>\n",
       "      <td>Built-up  Area</td>\n",
       "      <td>Bommenahalli</td>\n",
       "      <td>3</td>\n",
       "      <td>Prood G</td>\n",
       "      <td>2940Sq. Yards</td>\n",
       "      <td>3.0</td>\n",
       "      <td>1.0</td>\n",
       "      <td>232.00</td>\n",
       "      <td>0</td>\n",
       "    </tr>\n",
       "    <tr>\n",
       "      <th>9734</th>\n",
       "      <td>Carpet  Area</td>\n",
       "      <td>Yelahanka New Town</td>\n",
       "      <td>1</td>\n",
       "      <td>KHatsFl</td>\n",
       "      <td>45.06Sq. Meter</td>\n",
       "      <td>2.0</td>\n",
       "      <td>1.0</td>\n",
       "      <td>18.00</td>\n",
       "      <td>0</td>\n",
       "    </tr>\n",
       "    <tr>\n",
       "      <th>10488</th>\n",
       "      <td>Plot  Area</td>\n",
       "      <td>others</td>\n",
       "      <td>2</td>\n",
       "      <td>NaN</td>\n",
       "      <td>1.25Acres</td>\n",
       "      <td>2.0</td>\n",
       "      <td>2.0</td>\n",
       "      <td>200.00</td>\n",
       "      <td>0</td>\n",
       "    </tr>\n",
       "    <tr>\n",
       "      <th>10491</th>\n",
       "      <td>Super built-up  Area</td>\n",
       "      <td>others</td>\n",
       "      <td>2</td>\n",
       "      <td>NaN</td>\n",
       "      <td>86.72Sq. Meter</td>\n",
       "      <td>2.0</td>\n",
       "      <td>2.0</td>\n",
       "      <td>40.00</td>\n",
       "      <td>0</td>\n",
       "    </tr>\n",
       "    <tr>\n",
       "      <th>11320</th>\n",
       "      <td>Plot  Area</td>\n",
       "      <td>others</td>\n",
       "      <td>1</td>\n",
       "      <td>NaN</td>\n",
       "      <td>38Guntha</td>\n",
       "      <td>1.0</td>\n",
       "      <td>0.0</td>\n",
       "      <td>170.00</td>\n",
       "      <td>0</td>\n",
       "    </tr>\n",
       "    <tr>\n",
       "      <th>11615</th>\n",
       "      <td>Plot  Area</td>\n",
       "      <td>others</td>\n",
       "      <td>3</td>\n",
       "      <td>NaN</td>\n",
       "      <td>6Acres</td>\n",
       "      <td>2.0</td>\n",
       "      <td>0.0</td>\n",
       "      <td>80.00</td>\n",
       "      <td>0</td>\n",
       "    </tr>\n",
       "    <tr>\n",
       "      <th>12186</th>\n",
       "      <td>Built-up  Area</td>\n",
       "      <td>7th Phase JP Nagar</td>\n",
       "      <td>2</td>\n",
       "      <td>NaN</td>\n",
       "      <td>120Sq. Yards</td>\n",
       "      <td>2.0</td>\n",
       "      <td>1.0</td>\n",
       "      <td>51.00</td>\n",
       "      <td>0</td>\n",
       "    </tr>\n",
       "    <tr>\n",
       "      <th>12252</th>\n",
       "      <td>Built-up  Area</td>\n",
       "      <td>others</td>\n",
       "      <td>5</td>\n",
       "      <td>NaN</td>\n",
       "      <td>24Sq. Meter</td>\n",
       "      <td>5.0</td>\n",
       "      <td>0.0</td>\n",
       "      <td>75.00</td>\n",
       "      <td>0</td>\n",
       "    </tr>\n",
       "    <tr>\n",
       "      <th>12560</th>\n",
       "      <td>Super built-up  Area</td>\n",
       "      <td>Hosa Road</td>\n",
       "      <td>3</td>\n",
       "      <td>Sosisic</td>\n",
       "      <td>142.84Sq. Meter</td>\n",
       "      <td>3.0</td>\n",
       "      <td>1.0</td>\n",
       "      <td>110.00</td>\n",
       "      <td>23</td>\n",
       "    </tr>\n",
       "    <tr>\n",
       "      <th>12652</th>\n",
       "      <td>Plot  Area</td>\n",
       "      <td>others</td>\n",
       "      <td>2</td>\n",
       "      <td>AWharan</td>\n",
       "      <td>300Sq. Yards</td>\n",
       "      <td>2.0</td>\n",
       "      <td>2.0</td>\n",
       "      <td>150.00</td>\n",
       "      <td>0</td>\n",
       "    </tr>\n",
       "  </tbody>\n",
       "</table>\n",
       "</div>"
      ],
      "text/plain": [
       "                  area_type            location  size  society  \\\n",
       "410    Super built-up  Area             Kengeri     1      NaN   \n",
       "648          Built-up  Area             Arekere     9      NaN   \n",
       "775          Built-up  Area              others     1      NaN   \n",
       "872    Super built-up  Area              others     2      NaN   \n",
       "1019             Plot  Area              others     1      NaN   \n",
       "1086             Plot  Area              others     2      NaN   \n",
       "1400   Super built-up  Area          Chamrajpet     9      NaN   \n",
       "1712             Plot  Area              others     3  CoiewSy   \n",
       "1743   Super built-up  Area           Hosa Road     3  Sosisic   \n",
       "1821             Plot  Area            Sarjapur     3  Inensba   \n",
       "2310   Super built-up  Area          Whitefield     4  Haestt    \n",
       "2881         Built-up  Area              others     2  PSterAs   \n",
       "3228         Built-up  Area              others     5      NaN   \n",
       "3285             Plot  Area          Whitefield     4  Prtates   \n",
       "4113   Super built-up  Area          BTM Layout     3      NaN   \n",
       "4293         Built-up  Area   Bannerghatta Road     4      NaN   \n",
       "5453             Plot  Area              others     6      NaN   \n",
       "5537         Built-up  Area         Frazer Town     3  CaaveEn   \n",
       "5631   Super built-up  Area         Thanisandra     3  Soitya    \n",
       "5668         Built-up  Area     Judicial Layout     5      NaN   \n",
       "5708             Plot  Area              Jigani     4  Ceeury    \n",
       "5976         Built-up  Area  1st Phase JP Nagar     1  Opamaan   \n",
       "6268         Built-up  Area              others     2      NaN   \n",
       "6303         Built-up  Area            JP Nagar     3      NaN   \n",
       "6333             Plot  Area              others     2      NaN   \n",
       "6552             Plot  Area              others     5      NaN   \n",
       "6592         Built-up  Area              others     4      NaN   \n",
       "6953   Super built-up  Area           Hosa Road     3  Sosisic   \n",
       "7001             Plot  Area    Thyagaraja Nagar     8      NaN   \n",
       "7248         Built-up  Area            Hulimavu     2      NaN   \n",
       "7334             Plot  Area      Kanakpura Road     1      NaN   \n",
       "7520   Super built-up  Area       Doddaballapur     3      NaN   \n",
       "7607             Plot  Area        Bommenahalli     3  Prood G   \n",
       "7726             Plot  Area      Kanakpura Road     1      NaN   \n",
       "8273         Built-up  Area              others     3      NaN   \n",
       "9423             Plot  Area    Ramamurthy Nagar     1      NaN   \n",
       "9519         Built-up  Area        Bommenahalli     3  Prood G   \n",
       "9734           Carpet  Area  Yelahanka New Town     1  KHatsFl   \n",
       "10488            Plot  Area              others     2      NaN   \n",
       "10491  Super built-up  Area              others     2      NaN   \n",
       "11320            Plot  Area              others     1      NaN   \n",
       "11615            Plot  Area              others     3      NaN   \n",
       "12186        Built-up  Area  7th Phase JP Nagar     2      NaN   \n",
       "12252        Built-up  Area              others     5      NaN   \n",
       "12560  Super built-up  Area           Hosa Road     3  Sosisic   \n",
       "12652            Plot  Area              others     2  AWharan   \n",
       "\n",
       "            total_sqft  bath  balcony   price  waiting_period  \n",
       "410     34.46Sq. Meter   1.0      0.0   18.50               0  \n",
       "648          4125Perch   9.0      NaN  265.00               0  \n",
       "775      1000Sq. Meter   2.0      1.0   93.00               0  \n",
       "872      1100Sq. Yards   2.0      NaN   45.00               0  \n",
       "1019         5.31Acres   1.0      0.0  110.00              14  \n",
       "1086           30Acres   2.0      2.0   29.50              26  \n",
       "1400      716Sq. Meter   9.0      1.0  296.00               0  \n",
       "1712     1500Sq. Meter   3.0      1.0   95.00               0  \n",
       "1743   142.61Sq. Meter   3.0      1.0  115.00              26  \n",
       "1821     1574Sq. Yards   3.0      1.0   76.00               0  \n",
       "2310   361.33Sq. Yards   4.0      NaN  270.00               0  \n",
       "2881      117Sq. Yards   2.0      2.0   38.00               0  \n",
       "3228     3040Sq. Meter   5.0      1.0  140.00               0  \n",
       "3285      500Sq. Yards   4.0      2.0  378.00              16  \n",
       "4113      167Sq. Meter   3.0      2.0   10.00              12  \n",
       "4293      315Sq. Yards   5.0      NaN  260.00               0  \n",
       "5453            3Cents   6.0      3.0   75.00               0  \n",
       "5537   188.89Sq. Yards   3.0      1.0  180.00               0  \n",
       "5631      204Sq. Meter   4.0      2.0  185.00               0  \n",
       "5668       45Sq. Yards   6.0      3.0  400.00               0  \n",
       "5708    133.3Sq. Yards   3.0      2.0  160.00               0  \n",
       "5976    78.03Sq. Meter   1.0      1.0   63.00               0  \n",
       "6268      122Sq. Yards   2.0      0.0   48.00               0  \n",
       "6303    84.53Sq. Meter   3.0      1.0   69.34               0  \n",
       "6333         2.09Acres   2.0      0.0  200.00               0  \n",
       "6552          24Guntha   6.0      2.0  550.00               0  \n",
       "6592      697Sq. Meter   4.0      2.0  211.00               0  \n",
       "6953   142.61Sq. Meter   3.0      1.0  109.00              19  \n",
       "7001         1500Cents   6.0      2.0  290.00               0  \n",
       "7248      132Sq. Yards   2.0      3.0   46.00               0  \n",
       "7334            2Acres   1.0      0.0  125.00               0  \n",
       "7520     1100Sq. Meter   2.0      1.0   48.00               0  \n",
       "7607           15Acres   3.0      1.0  217.00               0  \n",
       "7726         1.26Acres   1.0      0.0  125.00               0  \n",
       "8273   151.11Sq. Yards   2.0      0.0  150.00               0  \n",
       "9423          1Grounds   1.0      1.0   48.00               0  \n",
       "9519     2940Sq. Yards   3.0      1.0  232.00               0  \n",
       "9734    45.06Sq. Meter   2.0      1.0   18.00               0  \n",
       "10488        1.25Acres   2.0      2.0  200.00               0  \n",
       "10491   86.72Sq. Meter   2.0      2.0   40.00               0  \n",
       "11320         38Guntha   1.0      0.0  170.00               0  \n",
       "11615           6Acres   2.0      0.0   80.00               0  \n",
       "12186     120Sq. Yards   2.0      1.0   51.00               0  \n",
       "12252      24Sq. Meter   5.0      0.0   75.00               0  \n",
       "12560  142.84Sq. Meter   3.0      1.0  110.00              23  \n",
       "12652     300Sq. Yards   2.0      2.0  150.00               0  "
      ]
     },
     "execution_count": 74,
     "metadata": {},
     "output_type": "execute_result"
    }
   ],
   "source": [
    "data[data['total_sqft'].str.contains('[A-Za-z]')]"
   ]
  },
  {
   "cell_type": "code",
   "execution_count": 75,
   "metadata": {},
   "outputs": [],
   "source": [
    "data['area_num']=data['total_sqft'].str.replace('([A-Za-z]+)','')\n",
    "data['area']=data['total_sqft'].str.replace(\"\\d+\",'')"
   ]
  },
  {
   "cell_type": "code",
   "execution_count": 76,
   "metadata": {},
   "outputs": [],
   "source": [
    "def is_float(x):\n",
    "    try:\n",
    "        float(x)\n",
    "    except:\n",
    "        return False\n",
    "    return True"
   ]
  },
  {
   "cell_type": "code",
   "execution_count": 77,
   "metadata": {},
   "outputs": [
    {
     "data": {
      "text/html": [
       "<div>\n",
       "<style scoped>\n",
       "    .dataframe tbody tr th:only-of-type {\n",
       "        vertical-align: middle;\n",
       "    }\n",
       "\n",
       "    .dataframe tbody tr th {\n",
       "        vertical-align: top;\n",
       "    }\n",
       "\n",
       "    .dataframe thead th {\n",
       "        text-align: right;\n",
       "    }\n",
       "</style>\n",
       "<table border=\"1\" class=\"dataframe\">\n",
       "  <thead>\n",
       "    <tr style=\"text-align: right;\">\n",
       "      <th></th>\n",
       "      <th>area_type</th>\n",
       "      <th>location</th>\n",
       "      <th>size</th>\n",
       "      <th>society</th>\n",
       "      <th>total_sqft</th>\n",
       "      <th>bath</th>\n",
       "      <th>balcony</th>\n",
       "      <th>price</th>\n",
       "      <th>waiting_period</th>\n",
       "      <th>area_num</th>\n",
       "      <th>area</th>\n",
       "    </tr>\n",
       "  </thead>\n",
       "  <tbody>\n",
       "    <tr>\n",
       "      <th>30</th>\n",
       "      <td>Super built-up  Area</td>\n",
       "      <td>Yelahanka</td>\n",
       "      <td>4</td>\n",
       "      <td>LedorSa</td>\n",
       "      <td>2100 - 2850</td>\n",
       "      <td>4.0</td>\n",
       "      <td>0.0</td>\n",
       "      <td>186.000</td>\n",
       "      <td>35</td>\n",
       "      <td>2100 - 2850</td>\n",
       "      <td>-</td>\n",
       "    </tr>\n",
       "    <tr>\n",
       "      <th>56</th>\n",
       "      <td>Built-up  Area</td>\n",
       "      <td>Devanahalli</td>\n",
       "      <td>4</td>\n",
       "      <td>BrereAt</td>\n",
       "      <td>3010 - 3410</td>\n",
       "      <td>NaN</td>\n",
       "      <td>NaN</td>\n",
       "      <td>192.000</td>\n",
       "      <td>37</td>\n",
       "      <td>3010 - 3410</td>\n",
       "      <td>-</td>\n",
       "    </tr>\n",
       "    <tr>\n",
       "      <th>81</th>\n",
       "      <td>Built-up  Area</td>\n",
       "      <td>Hennur Road</td>\n",
       "      <td>4</td>\n",
       "      <td>Gollela</td>\n",
       "      <td>2957 - 3450</td>\n",
       "      <td>NaN</td>\n",
       "      <td>NaN</td>\n",
       "      <td>224.500</td>\n",
       "      <td>21</td>\n",
       "      <td>2957 - 3450</td>\n",
       "      <td>-</td>\n",
       "    </tr>\n",
       "    <tr>\n",
       "      <th>122</th>\n",
       "      <td>Super built-up  Area</td>\n",
       "      <td>Hebbal</td>\n",
       "      <td>4</td>\n",
       "      <td>SNontle</td>\n",
       "      <td>3067 - 8156</td>\n",
       "      <td>4.0</td>\n",
       "      <td>0.0</td>\n",
       "      <td>477.000</td>\n",
       "      <td>14</td>\n",
       "      <td>3067 - 8156</td>\n",
       "      <td>-</td>\n",
       "    </tr>\n",
       "    <tr>\n",
       "      <th>137</th>\n",
       "      <td>Super built-up  Area</td>\n",
       "      <td>8th Phase JP Nagar</td>\n",
       "      <td>2</td>\n",
       "      <td>Vaarech</td>\n",
       "      <td>1042 - 1105</td>\n",
       "      <td>2.0</td>\n",
       "      <td>0.0</td>\n",
       "      <td>54.005</td>\n",
       "      <td>26</td>\n",
       "      <td>1042 - 1105</td>\n",
       "      <td>-</td>\n",
       "    </tr>\n",
       "    <tr>\n",
       "      <th>...</th>\n",
       "      <td>...</td>\n",
       "      <td>...</td>\n",
       "      <td>...</td>\n",
       "      <td>...</td>\n",
       "      <td>...</td>\n",
       "      <td>...</td>\n",
       "      <td>...</td>\n",
       "      <td>...</td>\n",
       "      <td>...</td>\n",
       "      <td>...</td>\n",
       "      <td>...</td>\n",
       "    </tr>\n",
       "    <tr>\n",
       "      <th>12990</th>\n",
       "      <td>Super built-up  Area</td>\n",
       "      <td>Talaghattapura</td>\n",
       "      <td>3</td>\n",
       "      <td>Sodgere</td>\n",
       "      <td>1804 - 2273</td>\n",
       "      <td>3.0</td>\n",
       "      <td>0.0</td>\n",
       "      <td>122.000</td>\n",
       "      <td>16</td>\n",
       "      <td>1804 - 2273</td>\n",
       "      <td>-</td>\n",
       "    </tr>\n",
       "    <tr>\n",
       "      <th>13059</th>\n",
       "      <td>Super built-up  Area</td>\n",
       "      <td>Harlur</td>\n",
       "      <td>2</td>\n",
       "      <td>Shodsir</td>\n",
       "      <td>1200 - 1470</td>\n",
       "      <td>2.0</td>\n",
       "      <td>0.0</td>\n",
       "      <td>72.760</td>\n",
       "      <td>0</td>\n",
       "      <td>1200 - 1470</td>\n",
       "      <td>-</td>\n",
       "    </tr>\n",
       "    <tr>\n",
       "      <th>13240</th>\n",
       "      <td>Super built-up  Area</td>\n",
       "      <td>Devanahalli</td>\n",
       "      <td>1</td>\n",
       "      <td>Pardsri</td>\n",
       "      <td>1020 - 1130</td>\n",
       "      <td>NaN</td>\n",
       "      <td>NaN</td>\n",
       "      <td>52.570</td>\n",
       "      <td>0</td>\n",
       "      <td>1020 - 1130</td>\n",
       "      <td>-</td>\n",
       "    </tr>\n",
       "    <tr>\n",
       "      <th>13265</th>\n",
       "      <td>Super built-up  Area</td>\n",
       "      <td>Hoodi</td>\n",
       "      <td>2</td>\n",
       "      <td>Ranuetz</td>\n",
       "      <td>1133 - 1384</td>\n",
       "      <td>2.0</td>\n",
       "      <td>0.0</td>\n",
       "      <td>59.135</td>\n",
       "      <td>44</td>\n",
       "      <td>1133 - 1384</td>\n",
       "      <td>-</td>\n",
       "    </tr>\n",
       "    <tr>\n",
       "      <th>13299</th>\n",
       "      <td>Super built-up  Area</td>\n",
       "      <td>Whitefield</td>\n",
       "      <td>4</td>\n",
       "      <td>Prtates</td>\n",
       "      <td>2830 - 2882</td>\n",
       "      <td>5.0</td>\n",
       "      <td>0.0</td>\n",
       "      <td>154.500</td>\n",
       "      <td>23</td>\n",
       "      <td>2830 - 2882</td>\n",
       "      <td>-</td>\n",
       "    </tr>\n",
       "  </tbody>\n",
       "</table>\n",
       "<p>213 rows × 11 columns</p>\n",
       "</div>"
      ],
      "text/plain": [
       "                  area_type            location  size  society   total_sqft  \\\n",
       "30     Super built-up  Area           Yelahanka     4  LedorSa  2100 - 2850   \n",
       "56           Built-up  Area         Devanahalli     4  BrereAt  3010 - 3410   \n",
       "81           Built-up  Area         Hennur Road     4  Gollela  2957 - 3450   \n",
       "122    Super built-up  Area              Hebbal     4  SNontle  3067 - 8156   \n",
       "137    Super built-up  Area  8th Phase JP Nagar     2  Vaarech  1042 - 1105   \n",
       "...                     ...                 ...   ...      ...          ...   \n",
       "12990  Super built-up  Area      Talaghattapura     3  Sodgere  1804 - 2273   \n",
       "13059  Super built-up  Area              Harlur     2  Shodsir  1200 - 1470   \n",
       "13240  Super built-up  Area         Devanahalli     1  Pardsri  1020 - 1130   \n",
       "13265  Super built-up  Area               Hoodi     2  Ranuetz  1133 - 1384   \n",
       "13299  Super built-up  Area          Whitefield     4  Prtates  2830 - 2882   \n",
       "\n",
       "       bath  balcony    price  waiting_period     area_num area  \n",
       "30      4.0      0.0  186.000              35  2100 - 2850   -   \n",
       "56      NaN      NaN  192.000              37  3010 - 3410   -   \n",
       "81      NaN      NaN  224.500              21  2957 - 3450   -   \n",
       "122     4.0      0.0  477.000              14  3067 - 8156   -   \n",
       "137     2.0      0.0   54.005              26  1042 - 1105   -   \n",
       "...     ...      ...      ...             ...          ...  ...  \n",
       "12990   3.0      0.0  122.000              16  1804 - 2273   -   \n",
       "13059   2.0      0.0   72.760               0  1200 - 1470   -   \n",
       "13240   NaN      NaN   52.570               0  1020 - 1130   -   \n",
       "13265   2.0      0.0   59.135              44  1133 - 1384   -   \n",
       "13299   5.0      0.0  154.500              23  2830 - 2882   -   \n",
       "\n",
       "[213 rows x 11 columns]"
      ]
     },
     "execution_count": 77,
     "metadata": {},
     "output_type": "execute_result"
    }
   ],
   "source": [
    "data[~data['area_num'].apply(is_float)]"
   ]
  },
  {
   "cell_type": "code",
   "execution_count": 78,
   "metadata": {},
   "outputs": [],
   "source": [
    "def convert_sqft_to_num(x):\n",
    "    tokens=x.split('-')\n",
    "    if len(tokens)==2:\n",
    "        return (float(tokens[0])+float(tokens[1]))/2\n",
    "    try: \n",
    "        return float(x)\n",
    "    except:\n",
    "        return None"
   ]
  },
  {
   "cell_type": "code",
   "execution_count": 79,
   "metadata": {},
   "outputs": [],
   "source": [
    "data['area_num']=data['area_num'].apply(convert_sqft_to_num)"
   ]
  },
  {
   "cell_type": "code",
   "execution_count": 80,
   "metadata": {},
   "outputs": [],
   "source": [
    "data.loc[data['area'].str.contains('Acre'),'area_num']=None\n",
    "data.loc[data['area'].str.contains('Meter'),'area_num']=data['area_num']*10.764\n",
    "data.loc[data['area'].str.contains('Yard'),'area_num']=data['area_num']*9\n",
    "data.loc[data['area'].str.contains('Guntha'),'area_num']=None\n",
    "data.loc[data['area'].str.contains('Perch'),'area_num']=None\n",
    "data.loc[data['area'].str.contains('Cents'),'area_num']=None"
   ]
  },
  {
   "cell_type": "code",
   "execution_count": 81,
   "metadata": {},
   "outputs": [],
   "source": [
    "data['total_sqft']=data['area_num']"
   ]
  },
  {
   "cell_type": "code",
   "execution_count": 82,
   "metadata": {},
   "outputs": [],
   "source": [
    "data=data.drop(['area_num','area'],axis=1)"
   ]
  },
  {
   "cell_type": "code",
   "execution_count": 83,
   "metadata": {
    "scrolled": true
   },
   "outputs": [
    {
     "data": {
      "text/plain": [
       "<matplotlib.axes._subplots.AxesSubplot at 0xbec28c8>"
      ]
     },
     "execution_count": 83,
     "metadata": {},
     "output_type": "execute_result"
    },
    {
     "data": {
      "image/png": "[encoded data removed]",
      "text/plain": [
       "<Figure size 432x288 with 1 Axes>"
      ]
     },
     "metadata": {
      "needs_background": "light"
     },
     "output_type": "display_data"
    }
   ],
   "source": [
    "sn.scatterplot(x='total_sqft',y='price',hue='location',legend=False,data=data)"
   ]
  },
  {
   "cell_type": "markdown",
   "metadata": {},
   "source": [
    "#### It can be observe that 'price' and 'total_sqft' have positive correlation. But few outliers can be easily obseve on chart"
   ]
  },
  {
   "cell_type": "markdown",
   "metadata": {},
   "source": [
    "#### we have mark some values as NA, we will drop those rows before model building"
   ]
  },
  {
   "cell_type": "markdown",
   "metadata": {},
   "source": [
    "### Exploring 'bath' variable"
   ]
  },
  {
   "cell_type": "code",
   "execution_count": 84,
   "metadata": {},
   "outputs": [
    {
     "data": {
      "text/plain": [
       "<matplotlib.axes._subplots.AxesSubplot at 0xbf94508>"
      ]
     },
     "execution_count": 84,
     "metadata": {},
     "output_type": "execute_result"
    },
    {
     "data": {
      "image/png": "[encoded data removed]",
      "text/plain": [
       "<Figure size 432x288 with 1 Axes>"
      ]
     },
     "metadata": {
      "needs_background": "light"
     },
     "output_type": "display_data"
    }
   ],
   "source": [
    "sn.scatterplot(data['size'],data['bath'])"
   ]
  },
  {
   "cell_type": "markdown",
   "metadata": {},
   "source": [
    "#### It can be observe that 'size' and 'bath' are strongly correlated to each other. Therefore we will drop 'bath' variable to avoid MultiColinearity"
   ]
  },
  {
   "cell_type": "markdown",
   "metadata": {},
   "source": [
    "### Exploring 'balcony' variable"
   ]
  },
  {
   "cell_type": "markdown",
   "metadata": {},
   "source": [
    "### we have highest missing values in 'society' feature followed by 'balcony'"
   ]
  },
  {
   "cell_type": "code",
   "execution_count": 85,
   "metadata": {},
   "outputs": [
    {
     "data": {
      "text/html": [
       "<div>\n",
       "<style scoped>\n",
       "    .dataframe tbody tr th:only-of-type {\n",
       "        vertical-align: middle;\n",
       "    }\n",
       "\n",
       "    .dataframe tbody tr th {\n",
       "        vertical-align: top;\n",
       "    }\n",
       "\n",
       "    .dataframe thead th {\n",
       "        text-align: right;\n",
       "    }\n",
       "</style>\n",
       "<table border=\"1\" class=\"dataframe\">\n",
       "  <thead>\n",
       "    <tr style=\"text-align: right;\">\n",
       "      <th>bath</th>\n",
       "      <th>1.0</th>\n",
       "      <th>2.0</th>\n",
       "      <th>3.0</th>\n",
       "      <th>4.0</th>\n",
       "      <th>5.0</th>\n",
       "      <th>6.0</th>\n",
       "      <th>7.0</th>\n",
       "      <th>8.0</th>\n",
       "      <th>9.0</th>\n",
       "      <th>10.0</th>\n",
       "      <th>11.0</th>\n",
       "      <th>12.0</th>\n",
       "      <th>13.0</th>\n",
       "      <th>15.0</th>\n",
       "      <th>27.0</th>\n",
       "      <th>40.0</th>\n",
       "    </tr>\n",
       "    <tr>\n",
       "      <th>size</th>\n",
       "      <th></th>\n",
       "      <th></th>\n",
       "      <th></th>\n",
       "      <th></th>\n",
       "      <th></th>\n",
       "      <th></th>\n",
       "      <th></th>\n",
       "      <th></th>\n",
       "      <th></th>\n",
       "      <th></th>\n",
       "      <th></th>\n",
       "      <th></th>\n",
       "      <th></th>\n",
       "      <th></th>\n",
       "      <th></th>\n",
       "      <th></th>\n",
       "    </tr>\n",
       "  </thead>\n",
       "  <tbody>\n",
       "    <tr>\n",
       "      <th>1</th>\n",
       "      <td>0.766831</td>\n",
       "      <td>0.871795</td>\n",
       "      <td>0.000000</td>\n",
       "      <td>0.000000</td>\n",
       "      <td>0.000000</td>\n",
       "      <td>0.000000</td>\n",
       "      <td>0.000000</td>\n",
       "      <td>0.000000</td>\n",
       "      <td>0.000000</td>\n",
       "      <td>0.000000</td>\n",
       "      <td>0</td>\n",
       "      <td>0</td>\n",
       "      <td>0</td>\n",
       "      <td>0</td>\n",
       "      <td>0</td>\n",
       "      <td>0</td>\n",
       "    </tr>\n",
       "    <tr>\n",
       "      <th>2</th>\n",
       "      <td>0.879310</td>\n",
       "      <td>1.447921</td>\n",
       "      <td>1.616667</td>\n",
       "      <td>0.750000</td>\n",
       "      <td>0.000000</td>\n",
       "      <td>0.000000</td>\n",
       "      <td>0.000000</td>\n",
       "      <td>0.000000</td>\n",
       "      <td>0.000000</td>\n",
       "      <td>0.000000</td>\n",
       "      <td>0</td>\n",
       "      <td>0</td>\n",
       "      <td>0</td>\n",
       "      <td>0</td>\n",
       "      <td>0</td>\n",
       "      <td>0</td>\n",
       "    </tr>\n",
       "    <tr>\n",
       "      <th>3</th>\n",
       "      <td>0.000000</td>\n",
       "      <td>1.652086</td>\n",
       "      <td>1.908010</td>\n",
       "      <td>1.905797</td>\n",
       "      <td>1.612903</td>\n",
       "      <td>2.000000</td>\n",
       "      <td>0.000000</td>\n",
       "      <td>0.000000</td>\n",
       "      <td>0.000000</td>\n",
       "      <td>0.000000</td>\n",
       "      <td>0</td>\n",
       "      <td>0</td>\n",
       "      <td>0</td>\n",
       "      <td>0</td>\n",
       "      <td>0</td>\n",
       "      <td>0</td>\n",
       "    </tr>\n",
       "    <tr>\n",
       "      <th>4</th>\n",
       "      <td>0.000000</td>\n",
       "      <td>1.064516</td>\n",
       "      <td>1.489247</td>\n",
       "      <td>1.779221</td>\n",
       "      <td>1.852535</td>\n",
       "      <td>1.551282</td>\n",
       "      <td>2.000000</td>\n",
       "      <td>0.000000</td>\n",
       "      <td>0.000000</td>\n",
       "      <td>0.000000</td>\n",
       "      <td>0</td>\n",
       "      <td>0</td>\n",
       "      <td>0</td>\n",
       "      <td>0</td>\n",
       "      <td>0</td>\n",
       "      <td>0</td>\n",
       "    </tr>\n",
       "    <tr>\n",
       "      <th>5</th>\n",
       "      <td>0.000000</td>\n",
       "      <td>1.000000</td>\n",
       "      <td>1.310345</td>\n",
       "      <td>1.577778</td>\n",
       "      <td>1.666667</td>\n",
       "      <td>2.000000</td>\n",
       "      <td>1.888889</td>\n",
       "      <td>3.000000</td>\n",
       "      <td>0.000000</td>\n",
       "      <td>0.000000</td>\n",
       "      <td>0</td>\n",
       "      <td>0</td>\n",
       "      <td>0</td>\n",
       "      <td>0</td>\n",
       "      <td>0</td>\n",
       "      <td>0</td>\n",
       "    </tr>\n",
       "    <tr>\n",
       "      <th>6</th>\n",
       "      <td>0.000000</td>\n",
       "      <td>0.000000</td>\n",
       "      <td>1.111111</td>\n",
       "      <td>1.562500</td>\n",
       "      <td>1.607143</td>\n",
       "      <td>1.970588</td>\n",
       "      <td>2.181818</td>\n",
       "      <td>1.571429</td>\n",
       "      <td>2.333333</td>\n",
       "      <td>0.000000</td>\n",
       "      <td>0</td>\n",
       "      <td>0</td>\n",
       "      <td>0</td>\n",
       "      <td>0</td>\n",
       "      <td>0</td>\n",
       "      <td>0</td>\n",
       "    </tr>\n",
       "    <tr>\n",
       "      <th>7</th>\n",
       "      <td>0.000000</td>\n",
       "      <td>2.000000</td>\n",
       "      <td>1.500000</td>\n",
       "      <td>1.500000</td>\n",
       "      <td>2.083333</td>\n",
       "      <td>2.000000</td>\n",
       "      <td>2.071429</td>\n",
       "      <td>1.500000</td>\n",
       "      <td>2.333333</td>\n",
       "      <td>0.000000</td>\n",
       "      <td>0</td>\n",
       "      <td>0</td>\n",
       "      <td>0</td>\n",
       "      <td>0</td>\n",
       "      <td>0</td>\n",
       "      <td>0</td>\n",
       "    </tr>\n",
       "    <tr>\n",
       "      <th>8</th>\n",
       "      <td>0.000000</td>\n",
       "      <td>0.000000</td>\n",
       "      <td>2.000000</td>\n",
       "      <td>1.600000</td>\n",
       "      <td>1.000000</td>\n",
       "      <td>1.857143</td>\n",
       "      <td>1.500000</td>\n",
       "      <td>1.826087</td>\n",
       "      <td>3.000000</td>\n",
       "      <td>1.666667</td>\n",
       "      <td>0</td>\n",
       "      <td>0</td>\n",
       "      <td>0</td>\n",
       "      <td>0</td>\n",
       "      <td>0</td>\n",
       "      <td>0</td>\n",
       "    </tr>\n",
       "    <tr>\n",
       "      <th>9</th>\n",
       "      <td>0.000000</td>\n",
       "      <td>0.000000</td>\n",
       "      <td>0.000000</td>\n",
       "      <td>0.000000</td>\n",
       "      <td>2.000000</td>\n",
       "      <td>2.200000</td>\n",
       "      <td>2.000000</td>\n",
       "      <td>2.000000</td>\n",
       "      <td>1.647059</td>\n",
       "      <td>3.000000</td>\n",
       "      <td>0</td>\n",
       "      <td>0</td>\n",
       "      <td>0</td>\n",
       "      <td>0</td>\n",
       "      <td>0</td>\n",
       "      <td>0</td>\n",
       "    </tr>\n",
       "    <tr>\n",
       "      <th>10</th>\n",
       "      <td>0.000000</td>\n",
       "      <td>0.000000</td>\n",
       "      <td>0.000000</td>\n",
       "      <td>0.000000</td>\n",
       "      <td>0.000000</td>\n",
       "      <td>0.000000</td>\n",
       "      <td>0.000000</td>\n",
       "      <td>3.000000</td>\n",
       "      <td>3.000000</td>\n",
       "      <td>3.000000</td>\n",
       "      <td>0</td>\n",
       "      <td>0</td>\n",
       "      <td>0</td>\n",
       "      <td>0</td>\n",
       "      <td>0</td>\n",
       "      <td>0</td>\n",
       "    </tr>\n",
       "    <tr>\n",
       "      <th>11</th>\n",
       "      <td>0.000000</td>\n",
       "      <td>0.000000</td>\n",
       "      <td>0.000000</td>\n",
       "      <td>0.000000</td>\n",
       "      <td>0.000000</td>\n",
       "      <td>3.000000</td>\n",
       "      <td>0.000000</td>\n",
       "      <td>0.000000</td>\n",
       "      <td>3.000000</td>\n",
       "      <td>0.000000</td>\n",
       "      <td>0</td>\n",
       "      <td>0</td>\n",
       "      <td>0</td>\n",
       "      <td>0</td>\n",
       "      <td>0</td>\n",
       "      <td>0</td>\n",
       "    </tr>\n",
       "    <tr>\n",
       "      <th>12</th>\n",
       "      <td>0.000000</td>\n",
       "      <td>0.000000</td>\n",
       "      <td>0.000000</td>\n",
       "      <td>0.000000</td>\n",
       "      <td>0.000000</td>\n",
       "      <td>2.000000</td>\n",
       "      <td>0.000000</td>\n",
       "      <td>0.000000</td>\n",
       "      <td>0.000000</td>\n",
       "      <td>0.000000</td>\n",
       "      <td>0</td>\n",
       "      <td>0</td>\n",
       "      <td>0</td>\n",
       "      <td>0</td>\n",
       "      <td>0</td>\n",
       "      <td>0</td>\n",
       "    </tr>\n",
       "    <tr>\n",
       "      <th>13</th>\n",
       "      <td>0.000000</td>\n",
       "      <td>0.000000</td>\n",
       "      <td>0.000000</td>\n",
       "      <td>0.000000</td>\n",
       "      <td>0.000000</td>\n",
       "      <td>0.000000</td>\n",
       "      <td>0.000000</td>\n",
       "      <td>0.000000</td>\n",
       "      <td>0.000000</td>\n",
       "      <td>0.000000</td>\n",
       "      <td>0</td>\n",
       "      <td>0</td>\n",
       "      <td>0</td>\n",
       "      <td>0</td>\n",
       "      <td>0</td>\n",
       "      <td>0</td>\n",
       "    </tr>\n",
       "    <tr>\n",
       "      <th>14</th>\n",
       "      <td>0.000000</td>\n",
       "      <td>0.000000</td>\n",
       "      <td>0.000000</td>\n",
       "      <td>0.000000</td>\n",
       "      <td>0.000000</td>\n",
       "      <td>0.000000</td>\n",
       "      <td>0.000000</td>\n",
       "      <td>0.000000</td>\n",
       "      <td>0.000000</td>\n",
       "      <td>0.000000</td>\n",
       "      <td>0</td>\n",
       "      <td>0</td>\n",
       "      <td>0</td>\n",
       "      <td>0</td>\n",
       "      <td>0</td>\n",
       "      <td>0</td>\n",
       "    </tr>\n",
       "    <tr>\n",
       "      <th>27</th>\n",
       "      <td>0.000000</td>\n",
       "      <td>0.000000</td>\n",
       "      <td>0.000000</td>\n",
       "      <td>0.000000</td>\n",
       "      <td>0.000000</td>\n",
       "      <td>0.000000</td>\n",
       "      <td>0.000000</td>\n",
       "      <td>0.000000</td>\n",
       "      <td>0.000000</td>\n",
       "      <td>0.000000</td>\n",
       "      <td>0</td>\n",
       "      <td>0</td>\n",
       "      <td>0</td>\n",
       "      <td>0</td>\n",
       "      <td>0</td>\n",
       "      <td>0</td>\n",
       "    </tr>\n",
       "    <tr>\n",
       "      <th>43</th>\n",
       "      <td>0.000000</td>\n",
       "      <td>0.000000</td>\n",
       "      <td>0.000000</td>\n",
       "      <td>0.000000</td>\n",
       "      <td>0.000000</td>\n",
       "      <td>0.000000</td>\n",
       "      <td>0.000000</td>\n",
       "      <td>0.000000</td>\n",
       "      <td>0.000000</td>\n",
       "      <td>0.000000</td>\n",
       "      <td>0</td>\n",
       "      <td>0</td>\n",
       "      <td>0</td>\n",
       "      <td>0</td>\n",
       "      <td>0</td>\n",
       "      <td>0</td>\n",
       "    </tr>\n",
       "  </tbody>\n",
       "</table>\n",
       "</div>"
      ],
      "text/plain": [
       "bath      1.0       2.0       3.0       4.0       5.0       6.0       7.0   \\\n",
       "size                                                                         \n",
       "1     0.766831  0.871795  0.000000  0.000000  0.000000  0.000000  0.000000   \n",
       "2     0.879310  1.447921  1.616667  0.750000  0.000000  0.000000  0.000000   \n",
       "3     0.000000  1.652086  1.908010  1.905797  1.612903  2.000000  0.000000   \n",
       "4     0.000000  1.064516  1.489247  1.779221  1.852535  1.551282  2.000000   \n",
       "5     0.000000  1.000000  1.310345  1.577778  1.666667  2.000000  1.888889   \n",
       "6     0.000000  0.000000  1.111111  1.562500  1.607143  1.970588  2.181818   \n",
       "7     0.000000  2.000000  1.500000  1.500000  2.083333  2.000000  2.071429   \n",
       "8     0.000000  0.000000  2.000000  1.600000  1.000000  1.857143  1.500000   \n",
       "9     0.000000  0.000000  0.000000  0.000000  2.000000  2.200000  2.000000   \n",
       "10    0.000000  0.000000  0.000000  0.000000  0.000000  0.000000  0.000000   \n",
       "11    0.000000  0.000000  0.000000  0.000000  0.000000  3.000000  0.000000   \n",
       "12    0.000000  0.000000  0.000000  0.000000  0.000000  2.000000  0.000000   \n",
       "13    0.000000  0.000000  0.000000  0.000000  0.000000  0.000000  0.000000   \n",
       "14    0.000000  0.000000  0.000000  0.000000  0.000000  0.000000  0.000000   \n",
       "27    0.000000  0.000000  0.000000  0.000000  0.000000  0.000000  0.000000   \n",
       "43    0.000000  0.000000  0.000000  0.000000  0.000000  0.000000  0.000000   \n",
       "\n",
       "bath      8.0       9.0       10.0  11.0  12.0  13.0  15.0  27.0  40.0  \n",
       "size                                                                    \n",
       "1     0.000000  0.000000  0.000000     0     0     0     0     0     0  \n",
       "2     0.000000  0.000000  0.000000     0     0     0     0     0     0  \n",
       "3     0.000000  0.000000  0.000000     0     0     0     0     0     0  \n",
       "4     0.000000  0.000000  0.000000     0     0     0     0     0     0  \n",
       "5     3.000000  0.000000  0.000000     0     0     0     0     0     0  \n",
       "6     1.571429  2.333333  0.000000     0     0     0     0     0     0  \n",
       "7     1.500000  2.333333  0.000000     0     0     0     0     0     0  \n",
       "8     1.826087  3.000000  1.666667     0     0     0     0     0     0  \n",
       "9     2.000000  1.647059  3.000000     0     0     0     0     0     0  \n",
       "10    3.000000  3.000000  3.000000     0     0     0     0     0     0  \n",
       "11    0.000000  3.000000  0.000000     0     0     0     0     0     0  \n",
       "12    0.000000  0.000000  0.000000     0     0     0     0     0     0  \n",
       "13    0.000000  0.000000  0.000000     0     0     0     0     0     0  \n",
       "14    0.000000  0.000000  0.000000     0     0     0     0     0     0  \n",
       "27    0.000000  0.000000  0.000000     0     0     0     0     0     0  \n",
       "43    0.000000  0.000000  0.000000     0     0     0     0     0     0  "
      ]
     },
     "execution_count": 85,
     "metadata": {},
     "output_type": "execute_result"
    }
   ],
   "source": [
    "pd.pivot_table(data,index='size',columns='bath',values='balcony',aggfunc='mean',fill_value=0)"
   ]
  },
  {
   "cell_type": "markdown",
   "metadata": {},
   "source": [
    "####  from above table, it can be observe that, for 1 RK flat size. balcony available is less than 1. whereas for 2 BHK flat size, balcony available is 1. Else for all remaining cases, avg balcony count is 2\n",
    "####  for few cases, we have avg balcony count 3 which are for 8,9 and 10 BHK\n",
    "#### Imputing NA based on size"
   ]
  },
  {
   "cell_type": "code",
   "execution_count": 86,
   "metadata": {},
   "outputs": [],
   "source": [
    "data.loc[((data['balcony'].isnull()) & (data['size']==1)),'balcony']=1\n",
    "data.loc[((data['balcony'].isnull()) & (data['size']==2)),'balcony']=1\n",
    "data.loc[((data['balcony'].isnull()) & (data['size']==8)),'balcony']=3\n",
    "data.loc[((data['balcony'].isnull()) & (data['size']==9)),'balcony']=3\n",
    "data.loc[((data['balcony'].isnull()) & (data['size']==10)),'balcony']=3\n",
    "data.loc[data['balcony'].isnull(),'balcony']=2"
   ]
  },
  {
   "cell_type": "code",
   "execution_count": 87,
   "metadata": {},
   "outputs": [
    {
     "data": {
      "text/plain": [
       "<seaborn.axisgrid.FacetGrid at 0xcdd0588>"
      ]
     },
     "execution_count": 87,
     "metadata": {},
     "output_type": "execute_result"
    },
    {
     "data": {
      "image/png": "[encoded data removed]",
      "text/plain": [
       "<Figure size 360x360 with 1 Axes>"
      ]
     },
     "metadata": {
      "needs_background": "light"
     },
     "output_type": "display_data"
    }
   ],
   "source": [
    "sn.catplot('balcony','price',jitter=False,data=data)"
   ]
  },
  {
   "cell_type": "markdown",
   "metadata": {},
   "source": [
    "#### it can be clearly seen that price range to higher size increases from 0 balcony to 3 balcony property "
   ]
  },
  {
   "cell_type": "markdown",
   "metadata": {},
   "source": [
    "### Creating new feature 'price/sqft' to identify outliers"
   ]
  },
  {
   "cell_type": "code",
   "execution_count": 88,
   "metadata": {},
   "outputs": [],
   "source": [
    "#creating new feature price/sqft\n",
    "data['price/sqft']=data['price']*100000/data['total_sqft']"
   ]
  },
  {
   "cell_type": "code",
   "execution_count": 89,
   "metadata": {},
   "outputs": [
    {
     "data": {
      "text/plain": [
       "count    1.329500e+04\n",
       "mean     8.270136e+03\n",
       "std      1.141812e+05\n",
       "min      2.678298e+02\n",
       "25%      4.263483e+03\n",
       "50%      5.430566e+03\n",
       "75%      7.312469e+03\n",
       "max      1.200000e+07\n",
       "Name: price/sqft, dtype: float64"
      ]
     },
     "execution_count": 89,
     "metadata": {},
     "output_type": "execute_result"
    }
   ],
   "source": [
    "data['price/sqft'].describe()"
   ]
  },
  {
   "cell_type": "markdown",
   "metadata": {},
   "source": [
    "### Dropping variable 'society'  and 'bath'"
   ]
  },
  {
   "cell_type": "code",
   "execution_count": 90,
   "metadata": {},
   "outputs": [
    {
     "data": {
      "text/html": [
       "<div>\n",
       "<style scoped>\n",
       "    .dataframe tbody tr th:only-of-type {\n",
       "        vertical-align: middle;\n",
       "    }\n",
       "\n",
       "    .dataframe tbody tr th {\n",
       "        vertical-align: top;\n",
       "    }\n",
       "\n",
       "    .dataframe thead th {\n",
       "        text-align: right;\n",
       "    }\n",
       "</style>\n",
       "<table border=\"1\" class=\"dataframe\">\n",
       "  <thead>\n",
       "    <tr style=\"text-align: right;\">\n",
       "      <th></th>\n",
       "      <th>area_type</th>\n",
       "      <th>location</th>\n",
       "      <th>size</th>\n",
       "      <th>total_sqft</th>\n",
       "      <th>balcony</th>\n",
       "      <th>price</th>\n",
       "      <th>waiting_period</th>\n",
       "      <th>price/sqft</th>\n",
       "    </tr>\n",
       "  </thead>\n",
       "  <tbody>\n",
       "    <tr>\n",
       "      <th>0</th>\n",
       "      <td>Super built-up  Area</td>\n",
       "      <td>Electronic City Phase II</td>\n",
       "      <td>2</td>\n",
       "      <td>1056.0</td>\n",
       "      <td>1.0</td>\n",
       "      <td>39.07</td>\n",
       "      <td>35</td>\n",
       "      <td>3699.810606</td>\n",
       "    </tr>\n",
       "    <tr>\n",
       "      <th>1</th>\n",
       "      <td>Plot  Area</td>\n",
       "      <td>Chikka Tirupathi</td>\n",
       "      <td>4</td>\n",
       "      <td>2600.0</td>\n",
       "      <td>3.0</td>\n",
       "      <td>120.00</td>\n",
       "      <td>0</td>\n",
       "      <td>4615.384615</td>\n",
       "    </tr>\n",
       "    <tr>\n",
       "      <th>2</th>\n",
       "      <td>Built-up  Area</td>\n",
       "      <td>Uttarahalli</td>\n",
       "      <td>3</td>\n",
       "      <td>1440.0</td>\n",
       "      <td>3.0</td>\n",
       "      <td>62.00</td>\n",
       "      <td>0</td>\n",
       "      <td>4305.555556</td>\n",
       "    </tr>\n",
       "    <tr>\n",
       "      <th>3</th>\n",
       "      <td>Super built-up  Area</td>\n",
       "      <td>Lingadheeranahalli</td>\n",
       "      <td>3</td>\n",
       "      <td>1521.0</td>\n",
       "      <td>1.0</td>\n",
       "      <td>95.00</td>\n",
       "      <td>0</td>\n",
       "      <td>6245.890861</td>\n",
       "    </tr>\n",
       "    <tr>\n",
       "      <th>4</th>\n",
       "      <td>Super built-up  Area</td>\n",
       "      <td>Kothanur</td>\n",
       "      <td>2</td>\n",
       "      <td>1200.0</td>\n",
       "      <td>1.0</td>\n",
       "      <td>51.00</td>\n",
       "      <td>0</td>\n",
       "      <td>4250.000000</td>\n",
       "    </tr>\n",
       "  </tbody>\n",
       "</table>\n",
       "</div>"
      ],
      "text/plain": [
       "              area_type                  location  size  total_sqft  balcony  \\\n",
       "0  Super built-up  Area  Electronic City Phase II     2      1056.0      1.0   \n",
       "1            Plot  Area          Chikka Tirupathi     4      2600.0      3.0   \n",
       "2        Built-up  Area               Uttarahalli     3      1440.0      3.0   \n",
       "3  Super built-up  Area        Lingadheeranahalli     3      1521.0      1.0   \n",
       "4  Super built-up  Area                  Kothanur     2      1200.0      1.0   \n",
       "\n",
       "    price  waiting_period   price/sqft  \n",
       "0   39.07              35  3699.810606  \n",
       "1  120.00               0  4615.384615  \n",
       "2   62.00               0  4305.555556  \n",
       "3   95.00               0  6245.890861  \n",
       "4   51.00               0  4250.000000  "
      ]
     },
     "execution_count": 90,
     "metadata": {},
     "output_type": "execute_result"
    }
   ],
   "source": [
    "data=data.drop(['society','bath'],axis=1)\n",
    "data.head()"
   ]
  },
  {
   "cell_type": "markdown",
   "metadata": {},
   "source": [
    "### Lets deal with outliers"
   ]
  },
  {
   "cell_type": "code",
   "execution_count": 91,
   "metadata": {
    "scrolled": true
   },
   "outputs": [
    {
     "data": {
      "text/plain": [
       "<seaborn.axisgrid.FacetGrid at 0xcd75a48>"
      ]
     },
     "execution_count": 91,
     "metadata": {},
     "output_type": "execute_result"
    },
    {
     "data": {
      "text/plain": [
       "<Figure size 7200x360 with 0 Axes>"
      ]
     },
     "metadata": {},
     "output_type": "display_data"
    },
    {
     "data": {
      "image/png": "[encoded data removed]",
      "text/plain": [
       "<Figure size 2520x360 with 1 Axes>"
      ]
     },
     "metadata": {
      "needs_background": "light"
     },
     "output_type": "display_data"
    }
   ],
   "source": [
    "plt.figure(figsize=(100,5))\n",
    "chart=sn.catplot('location','price',data=data,height=5,aspect=7)\n",
    "chart.set_xticklabels(rotation=90,horizontalalignment='right')"
   ]
  },
  {
   "cell_type": "code",
   "execution_count": 92,
   "metadata": {
    "scrolled": true
   },
   "outputs": [
    {
     "data": {
      "text/plain": [
       "<seaborn.axisgrid.FacetGrid at 0xcd00788>"
      ]
     },
     "execution_count": 92,
     "metadata": {},
     "output_type": "execute_result"
    },
    {
     "data": {
      "image/png": "[encoded data removed]",
      "text/plain": [
       "<Figure size 360x360 with 1 Axes>"
      ]
     },
     "metadata": {
      "needs_background": "light"
     },
     "output_type": "display_data"
    }
   ],
   "source": [
    "sn.catplot('size','price',jitter=False,data=data)"
   ]
  },
  {
   "cell_type": "code",
   "execution_count": 93,
   "metadata": {},
   "outputs": [
    {
     "data": {
      "text/plain": [
       "<seaborn.axisgrid.FacetGrid at 0xdfe0408>"
      ]
     },
     "execution_count": 93,
     "metadata": {},
     "output_type": "execute_result"
    },
    {
     "data": {
      "image/png": "[encoded data removed]",
      "text/plain": [
       "<Figure size 360x360 with 1 Axes>"
      ]
     },
     "metadata": {
      "needs_background": "light"
     },
     "output_type": "display_data"
    }
   ],
   "source": [
    "sn.catplot('balcony','price',jitter=False,data=data)"
   ]
  },
  {
   "cell_type": "markdown",
   "metadata": {},
   "source": [
    "#### we have certain extreme values for 'locations','size' and 'balcony'. Removing all this extrme values one by one based on Std Deviation of price/sqft"
   ]
  },
  {
   "cell_type": "code",
   "execution_count": 94,
   "metadata": {},
   "outputs": [],
   "source": [
    "def location_outliers(data):\n",
    "    data_out=pd.DataFrame()\n",
    "    for key, subdf in data.groupby('location'):\n",
    "        m=np.mean(subdf['price/sqft'])\n",
    "        st=np.std(subdf['price/sqft'])\n",
    "        reduced_df=subdf[(subdf['price/sqft']>(m-st)) & (subdf['price/sqft']<=(m+st))]\n",
    "        data_out=pd.concat([data_out,reduced_df],ignore_index=True)\n",
    "    return data_out"
   ]
  },
  {
   "cell_type": "code",
   "execution_count": 95,
   "metadata": {},
   "outputs": [],
   "source": [
    "data=location_outliers(data)"
   ]
  },
  {
   "cell_type": "code",
   "execution_count": 96,
   "metadata": {},
   "outputs": [],
   "source": [
    "def size_outliers(data):\n",
    "    data_out=pd.DataFrame()\n",
    "    for key, subdf in data.groupby('size'):\n",
    "        m=np.mean(subdf['price/sqft'])\n",
    "        st=np.std(subdf['price/sqft'])\n",
    "        reduced_df=subdf[(subdf['price/sqft']>(m-st)) & (subdf['price/sqft']<=(m+st))]\n",
    "        data_out=pd.concat([data_out,reduced_df],ignore_index=True)\n",
    "    return data_out"
   ]
  },
  {
   "cell_type": "code",
   "execution_count": 97,
   "metadata": {},
   "outputs": [],
   "source": [
    "data=size_outliers(data)"
   ]
  },
  {
   "cell_type": "code",
   "execution_count": 98,
   "metadata": {},
   "outputs": [],
   "source": [
    "def balcony_outliers(data):\n",
    "    data_out=pd.DataFrame()\n",
    "    for key, subdf in data.groupby('balcony'):\n",
    "        m=np.mean(subdf['price/sqft'])\n",
    "        st=np.std(subdf['price/sqft'])\n",
    "        reduced_df=subdf[(subdf['price/sqft']>(m-st)) & (subdf['price/sqft']<=(m+st))]\n",
    "        data_out=pd.concat([data_out,reduced_df],ignore_index=True)\n",
    "    return data_out"
   ]
  },
  {
   "cell_type": "code",
   "execution_count": 99,
   "metadata": {},
   "outputs": [],
   "source": [
    "data=balcony_outliers(data)"
   ]
  },
  {
   "cell_type": "code",
   "execution_count": 100,
   "metadata": {},
   "outputs": [
    {
     "data": {
      "text/plain": [
       "(8081, 8)"
      ]
     },
     "execution_count": 100,
     "metadata": {},
     "output_type": "execute_result"
    }
   ],
   "source": [
    "data.shape"
   ]
  },
  {
   "cell_type": "markdown",
   "metadata": {},
   "source": [
    "#### we have removed outliers based on 'price/sqft'. Now analysing target variable for outliers"
   ]
  },
  {
   "cell_type": "code",
   "execution_count": 101,
   "metadata": {},
   "outputs": [
    {
     "data": {
      "text/plain": [
       "<matplotlib.axes._subplots.AxesSubplot at 0xf1fdf08>"
      ]
     },
     "execution_count": 101,
     "metadata": {},
     "output_type": "execute_result"
    },
    {
     "data": {
      "image/png": "[encoded data removed]",
      "text/plain": [
       "<Figure size 432x288 with 1 Axes>"
      ]
     },
     "metadata": {
      "needs_background": "light"
     },
     "output_type": "display_data"
    }
   ],
   "source": [
    "sn.boxplot('price',data=data)"
   ]
  },
  {
   "cell_type": "markdown",
   "metadata": {},
   "source": [
    "#### We can observe, there are certain extreme values which need to taken care off \n",
    "#### lets remove 'price' datapoints having value more than 700"
   ]
  },
  {
   "cell_type": "code",
   "execution_count": 102,
   "metadata": {},
   "outputs": [],
   "source": [
    "data=data[data.price<=700]"
   ]
  },
  {
   "cell_type": "markdown",
   "metadata": {},
   "source": [
    "#### lets drop NA imputed during total_sqft EDA"
   ]
  },
  {
   "cell_type": "code",
   "execution_count": 103,
   "metadata": {},
   "outputs": [],
   "source": [
    "data=data.dropna()"
   ]
  },
  {
   "cell_type": "code",
   "execution_count": 104,
   "metadata": {},
   "outputs": [
    {
     "data": {
      "text/html": [
       "<div>\n",
       "<style scoped>\n",
       "    .dataframe tbody tr th:only-of-type {\n",
       "        vertical-align: middle;\n",
       "    }\n",
       "\n",
       "    .dataframe tbody tr th {\n",
       "        vertical-align: top;\n",
       "    }\n",
       "\n",
       "    .dataframe thead th {\n",
       "        text-align: right;\n",
       "    }\n",
       "</style>\n",
       "<table border=\"1\" class=\"dataframe\">\n",
       "  <thead>\n",
       "    <tr style=\"text-align: right;\">\n",
       "      <th></th>\n",
       "      <th>area_type</th>\n",
       "      <th>location</th>\n",
       "      <th>size</th>\n",
       "      <th>total_sqft</th>\n",
       "      <th>balcony</th>\n",
       "      <th>price</th>\n",
       "      <th>waiting_period</th>\n",
       "      <th>price/sqft</th>\n",
       "    </tr>\n",
       "  </thead>\n",
       "  <tbody>\n",
       "    <tr>\n",
       "      <th>0</th>\n",
       "      <td>Super built-up  Area</td>\n",
       "      <td>8th Phase JP Nagar</td>\n",
       "      <td>1</td>\n",
       "      <td>451.0</td>\n",
       "      <td>0.0</td>\n",
       "      <td>29.900</td>\n",
       "      <td>16</td>\n",
       "      <td>6629.711752</td>\n",
       "    </tr>\n",
       "    <tr>\n",
       "      <th>1</th>\n",
       "      <td>Super built-up  Area</td>\n",
       "      <td>Balagere</td>\n",
       "      <td>1</td>\n",
       "      <td>790.5</td>\n",
       "      <td>0.0</td>\n",
       "      <td>41.900</td>\n",
       "      <td>36</td>\n",
       "      <td>5300.442758</td>\n",
       "    </tr>\n",
       "    <tr>\n",
       "      <th>2</th>\n",
       "      <td>Super built-up  Area</td>\n",
       "      <td>Balagere</td>\n",
       "      <td>1</td>\n",
       "      <td>790.5</td>\n",
       "      <td>0.0</td>\n",
       "      <td>42.295</td>\n",
       "      <td>36</td>\n",
       "      <td>5350.411132</td>\n",
       "    </tr>\n",
       "    <tr>\n",
       "      <th>3</th>\n",
       "      <td>Super built-up  Area</td>\n",
       "      <td>Banaswadi</td>\n",
       "      <td>1</td>\n",
       "      <td>527.0</td>\n",
       "      <td>0.0</td>\n",
       "      <td>35.000</td>\n",
       "      <td>0</td>\n",
       "      <td>6641.366224</td>\n",
       "    </tr>\n",
       "    <tr>\n",
       "      <th>4</th>\n",
       "      <td>Super built-up  Area</td>\n",
       "      <td>Binny Pete</td>\n",
       "      <td>1</td>\n",
       "      <td>665.0</td>\n",
       "      <td>0.0</td>\n",
       "      <td>50.750</td>\n",
       "      <td>35</td>\n",
       "      <td>7631.578947</td>\n",
       "    </tr>\n",
       "  </tbody>\n",
       "</table>\n",
       "</div>"
      ],
      "text/plain": [
       "              area_type            location  size  total_sqft  balcony  \\\n",
       "0  Super built-up  Area  8th Phase JP Nagar     1       451.0      0.0   \n",
       "1  Super built-up  Area            Balagere     1       790.5      0.0   \n",
       "2  Super built-up  Area            Balagere     1       790.5      0.0   \n",
       "3  Super built-up  Area           Banaswadi     1       527.0      0.0   \n",
       "4  Super built-up  Area          Binny Pete     1       665.0      0.0   \n",
       "\n",
       "    price  waiting_period   price/sqft  \n",
       "0  29.900              16  6629.711752  \n",
       "1  41.900              36  5300.442758  \n",
       "2  42.295              36  5350.411132  \n",
       "3  35.000               0  6641.366224  \n",
       "4  50.750              35  7631.578947  "
      ]
     },
     "execution_count": 104,
     "metadata": {},
     "output_type": "execute_result"
    }
   ],
   "source": [
    "data.head()"
   ]
  },
  {
   "cell_type": "markdown",
   "metadata": {},
   "source": [
    "#### after removing outliers, lets  drop 'price/sqft' variable"
   ]
  },
  {
   "cell_type": "code",
   "execution_count": 105,
   "metadata": {},
   "outputs": [],
   "source": [
    "data=data.drop(['price/sqft','area_type','waiting_period'],axis=1)"
   ]
  },
  {
   "cell_type": "code",
   "execution_count": 106,
   "metadata": {},
   "outputs": [
    {
     "data": {
      "text/html": [
       "<div>\n",
       "<style scoped>\n",
       "    .dataframe tbody tr th:only-of-type {\n",
       "        vertical-align: middle;\n",
       "    }\n",
       "\n",
       "    .dataframe tbody tr th {\n",
       "        vertical-align: top;\n",
       "    }\n",
       "\n",
       "    .dataframe thead th {\n",
       "        text-align: right;\n",
       "    }\n",
       "</style>\n",
       "<table border=\"1\" class=\"dataframe\">\n",
       "  <thead>\n",
       "    <tr style=\"text-align: right;\">\n",
       "      <th></th>\n",
       "      <th>location</th>\n",
       "      <th>size</th>\n",
       "      <th>total_sqft</th>\n",
       "      <th>balcony</th>\n",
       "      <th>price</th>\n",
       "    </tr>\n",
       "  </thead>\n",
       "  <tbody>\n",
       "    <tr>\n",
       "      <th>0</th>\n",
       "      <td>8th Phase JP Nagar</td>\n",
       "      <td>1</td>\n",
       "      <td>451.0</td>\n",
       "      <td>0.0</td>\n",
       "      <td>29.900</td>\n",
       "    </tr>\n",
       "    <tr>\n",
       "      <th>1</th>\n",
       "      <td>Balagere</td>\n",
       "      <td>1</td>\n",
       "      <td>790.5</td>\n",
       "      <td>0.0</td>\n",
       "      <td>41.900</td>\n",
       "    </tr>\n",
       "    <tr>\n",
       "      <th>2</th>\n",
       "      <td>Balagere</td>\n",
       "      <td>1</td>\n",
       "      <td>790.5</td>\n",
       "      <td>0.0</td>\n",
       "      <td>42.295</td>\n",
       "    </tr>\n",
       "    <tr>\n",
       "      <th>3</th>\n",
       "      <td>Banaswadi</td>\n",
       "      <td>1</td>\n",
       "      <td>527.0</td>\n",
       "      <td>0.0</td>\n",
       "      <td>35.000</td>\n",
       "    </tr>\n",
       "    <tr>\n",
       "      <th>4</th>\n",
       "      <td>Binny Pete</td>\n",
       "      <td>1</td>\n",
       "      <td>665.0</td>\n",
       "      <td>0.0</td>\n",
       "      <td>50.750</td>\n",
       "    </tr>\n",
       "  </tbody>\n",
       "</table>\n",
       "</div>"
      ],
      "text/plain": [
       "             location  size  total_sqft  balcony   price\n",
       "0  8th Phase JP Nagar     1       451.0      0.0  29.900\n",
       "1            Balagere     1       790.5      0.0  41.900\n",
       "2            Balagere     1       790.5      0.0  42.295\n",
       "3           Banaswadi     1       527.0      0.0  35.000\n",
       "4          Binny Pete     1       665.0      0.0  50.750"
      ]
     },
     "execution_count": 106,
     "metadata": {},
     "output_type": "execute_result"
    }
   ],
   "source": [
    "data.head()"
   ]
  },
  {
   "cell_type": "markdown",
   "metadata": {},
   "source": [
    "### Lets use LabelEncoding for 'area_type' feature"
   ]
  },
  {
   "cell_type": "code",
   "execution_count": 107,
   "metadata": {},
   "outputs": [],
   "source": [
    "from sklearn.preprocessing import LabelEncoder\n",
    "#le=LabelEncoder()\n",
    "#data['area_type']=le.fit_transform(data['area_type'])"
   ]
  },
  {
   "cell_type": "markdown",
   "metadata": {},
   "source": [
    "### Lets create Dummies for 'Location' variable"
   ]
  },
  {
   "cell_type": "code",
   "execution_count": 108,
   "metadata": {},
   "outputs": [],
   "source": [
    "dummies=pd.get_dummies(data['location'])"
   ]
  },
  {
   "cell_type": "code",
   "execution_count": 109,
   "metadata": {},
   "outputs": [],
   "source": [
    "data=pd.concat([data,dummies.drop('others',axis=1)],axis=1)"
   ]
  },
  {
   "cell_type": "code",
   "execution_count": 110,
   "metadata": {},
   "outputs": [],
   "source": [
    "data=data.drop('location',axis=1)"
   ]
  },
  {
   "cell_type": "code",
   "execution_count": 111,
   "metadata": {},
   "outputs": [
    {
     "data": {
      "text/plain": [
       "(8078, 230)"
      ]
     },
     "execution_count": 111,
     "metadata": {},
     "output_type": "execute_result"
    }
   ],
   "source": [
    "data.shape"
   ]
  },
  {
   "cell_type": "code",
   "execution_count": 112,
   "metadata": {},
   "outputs": [
    {
     "data": {
      "text/html": [
       "<div>\n",
       "<style scoped>\n",
       "    .dataframe tbody tr th:only-of-type {\n",
       "        vertical-align: middle;\n",
       "    }\n",
       "\n",
       "    .dataframe tbody tr th {\n",
       "        vertical-align: top;\n",
       "    }\n",
       "\n",
       "    .dataframe thead th {\n",
       "        text-align: right;\n",
       "    }\n",
       "</style>\n",
       "<table border=\"1\" class=\"dataframe\">\n",
       "  <thead>\n",
       "    <tr style=\"text-align: right;\">\n",
       "      <th></th>\n",
       "      <th>size</th>\n",
       "      <th>total_sqft</th>\n",
       "      <th>balcony</th>\n",
       "      <th>price</th>\n",
       "      <th>1st Phase JP Nagar</th>\n",
       "      <th>2nd Phase Judicial Layout</th>\n",
       "      <th>5th Block Hbr Layout</th>\n",
       "      <th>5th Phase JP Nagar</th>\n",
       "      <th>6th Phase JP Nagar</th>\n",
       "      <th>7th Phase JP Nagar</th>\n",
       "      <th>...</th>\n",
       "      <th>Vijayanagar</th>\n",
       "      <th>Vishveshwarya Layout</th>\n",
       "      <th>Vishwapriya Layout</th>\n",
       "      <th>Vittasandra</th>\n",
       "      <th>Whitefield</th>\n",
       "      <th>Yelachenahalli</th>\n",
       "      <th>Yelahanka</th>\n",
       "      <th>Yelahanka New Town</th>\n",
       "      <th>Yelenahalli</th>\n",
       "      <th>Yeshwanthpur</th>\n",
       "    </tr>\n",
       "  </thead>\n",
       "  <tbody>\n",
       "    <tr>\n",
       "      <th>0</th>\n",
       "      <td>1</td>\n",
       "      <td>451.0</td>\n",
       "      <td>0.0</td>\n",
       "      <td>29.900</td>\n",
       "      <td>0</td>\n",
       "      <td>0</td>\n",
       "      <td>0</td>\n",
       "      <td>0</td>\n",
       "      <td>0</td>\n",
       "      <td>0</td>\n",
       "      <td>...</td>\n",
       "      <td>0</td>\n",
       "      <td>0</td>\n",
       "      <td>0</td>\n",
       "      <td>0</td>\n",
       "      <td>0</td>\n",
       "      <td>0</td>\n",
       "      <td>0</td>\n",
       "      <td>0</td>\n",
       "      <td>0</td>\n",
       "      <td>0</td>\n",
       "    </tr>\n",
       "    <tr>\n",
       "      <th>1</th>\n",
       "      <td>1</td>\n",
       "      <td>790.5</td>\n",
       "      <td>0.0</td>\n",
       "      <td>41.900</td>\n",
       "      <td>0</td>\n",
       "      <td>0</td>\n",
       "      <td>0</td>\n",
       "      <td>0</td>\n",
       "      <td>0</td>\n",
       "      <td>0</td>\n",
       "      <td>...</td>\n",
       "      <td>0</td>\n",
       "      <td>0</td>\n",
       "      <td>0</td>\n",
       "      <td>0</td>\n",
       "      <td>0</td>\n",
       "      <td>0</td>\n",
       "      <td>0</td>\n",
       "      <td>0</td>\n",
       "      <td>0</td>\n",
       "      <td>0</td>\n",
       "    </tr>\n",
       "    <tr>\n",
       "      <th>2</th>\n",
       "      <td>1</td>\n",
       "      <td>790.5</td>\n",
       "      <td>0.0</td>\n",
       "      <td>42.295</td>\n",
       "      <td>0</td>\n",
       "      <td>0</td>\n",
       "      <td>0</td>\n",
       "      <td>0</td>\n",
       "      <td>0</td>\n",
       "      <td>0</td>\n",
       "      <td>...</td>\n",
       "      <td>0</td>\n",
       "      <td>0</td>\n",
       "      <td>0</td>\n",
       "      <td>0</td>\n",
       "      <td>0</td>\n",
       "      <td>0</td>\n",
       "      <td>0</td>\n",
       "      <td>0</td>\n",
       "      <td>0</td>\n",
       "      <td>0</td>\n",
       "    </tr>\n",
       "    <tr>\n",
       "      <th>3</th>\n",
       "      <td>1</td>\n",
       "      <td>527.0</td>\n",
       "      <td>0.0</td>\n",
       "      <td>35.000</td>\n",
       "      <td>0</td>\n",
       "      <td>0</td>\n",
       "      <td>0</td>\n",
       "      <td>0</td>\n",
       "      <td>0</td>\n",
       "      <td>0</td>\n",
       "      <td>...</td>\n",
       "      <td>0</td>\n",
       "      <td>0</td>\n",
       "      <td>0</td>\n",
       "      <td>0</td>\n",
       "      <td>0</td>\n",
       "      <td>0</td>\n",
       "      <td>0</td>\n",
       "      <td>0</td>\n",
       "      <td>0</td>\n",
       "      <td>0</td>\n",
       "    </tr>\n",
       "    <tr>\n",
       "      <th>4</th>\n",
       "      <td>1</td>\n",
       "      <td>665.0</td>\n",
       "      <td>0.0</td>\n",
       "      <td>50.750</td>\n",
       "      <td>0</td>\n",
       "      <td>0</td>\n",
       "      <td>0</td>\n",
       "      <td>0</td>\n",
       "      <td>0</td>\n",
       "      <td>0</td>\n",
       "      <td>...</td>\n",
       "      <td>0</td>\n",
       "      <td>0</td>\n",
       "      <td>0</td>\n",
       "      <td>0</td>\n",
       "      <td>0</td>\n",
       "      <td>0</td>\n",
       "      <td>0</td>\n",
       "      <td>0</td>\n",
       "      <td>0</td>\n",
       "      <td>0</td>\n",
       "    </tr>\n",
       "  </tbody>\n",
       "</table>\n",
       "<p>5 rows × 230 columns</p>\n",
       "</div>"
      ],
      "text/plain": [
       "   size  total_sqft  balcony   price  1st Phase JP Nagar  \\\n",
       "0     1       451.0      0.0  29.900                   0   \n",
       "1     1       790.5      0.0  41.900                   0   \n",
       "2     1       790.5      0.0  42.295                   0   \n",
       "3     1       527.0      0.0  35.000                   0   \n",
       "4     1       665.0      0.0  50.750                   0   \n",
       "\n",
       "   2nd Phase Judicial Layout  5th Block Hbr Layout  5th Phase JP Nagar  \\\n",
       "0                          0                     0                   0   \n",
       "1                          0                     0                   0   \n",
       "2                          0                     0                   0   \n",
       "3                          0                     0                   0   \n",
       "4                          0                     0                   0   \n",
       "\n",
       "   6th Phase JP Nagar  7th Phase JP Nagar  ...  Vijayanagar  \\\n",
       "0                   0                   0  ...            0   \n",
       "1                   0                   0  ...            0   \n",
       "2                   0                   0  ...            0   \n",
       "3                   0                   0  ...            0   \n",
       "4                   0                   0  ...            0   \n",
       "\n",
       "   Vishveshwarya Layout  Vishwapriya Layout  Vittasandra  Whitefield  \\\n",
       "0                     0                   0            0           0   \n",
       "1                     0                   0            0           0   \n",
       "2                     0                   0            0           0   \n",
       "3                     0                   0            0           0   \n",
       "4                     0                   0            0           0   \n",
       "\n",
       "   Yelachenahalli  Yelahanka  Yelahanka New Town  Yelenahalli  Yeshwanthpur  \n",
       "0               0          0                   0            0             0  \n",
       "1               0          0                   0            0             0  \n",
       "2               0          0                   0            0             0  \n",
       "3               0          0                   0            0             0  \n",
       "4               0          0                   0            0             0  \n",
       "\n",
       "[5 rows x 230 columns]"
      ]
     },
     "execution_count": 112,
     "metadata": {},
     "output_type": "execute_result"
    }
   ],
   "source": [
    "data.head()"
   ]
  },
  {
   "cell_type": "code",
   "execution_count": 113,
   "metadata": {},
   "outputs": [],
   "source": [
    "x=data.drop('price',axis=1)"
   ]
  },
  {
   "cell_type": "code",
   "execution_count": 114,
   "metadata": {},
   "outputs": [],
   "source": [
    "y=data['price'].astype(int)"
   ]
  },
  {
   "cell_type": "code",
   "execution_count": 115,
   "metadata": {},
   "outputs": [],
   "source": [
    "from sklearn.model_selection import train_test_split\n",
    "x_train,x_test,y_train,y_test=train_test_split(x,y,test_size=0.2,random_state=10)"
   ]
  },
  {
   "cell_type": "code",
   "execution_count": 116,
   "metadata": {},
   "outputs": [],
   "source": [
    "from sklearn.ensemble import RandomForestRegressor\n",
    "rf=RandomForestRegressor(n_estimators=200,max_depth=7,random_state=15)"
   ]
  },
  {
   "cell_type": "code",
   "execution_count": 117,
   "metadata": {},
   "outputs": [
    {
     "data": {
      "text/plain": [
       "0.9135532790193432"
      ]
     },
     "execution_count": 117,
     "metadata": {},
     "output_type": "execute_result"
    }
   ],
   "source": [
    "model=rf.fit(x_train,y_train)\n",
    "model.score(x_train,y_train)"
   ]
  },
  {
   "cell_type": "code",
   "execution_count": 118,
   "metadata": {},
   "outputs": [],
   "source": [
    "prediction=model.predict(x_test)"
   ]
  },
  {
   "cell_type": "code",
   "execution_count": 119,
   "metadata": {},
   "outputs": [
    {
     "name": "stdout",
     "output_type": "stream",
     "text": [
      "270.1204118954785\n",
      "16.435340334032592\n"
     ]
    }
   ],
   "source": [
    "from sklearn.metrics import mean_squared_error as mse\n",
    "print(mse(y_test,prediction))\n",
    "print(np.sqrt(mse(y_test,prediction)))"
   ]
  },
  {
   "cell_type": "code",
   "execution_count": 120,
   "metadata": {
    "scrolled": true
   },
   "outputs": [
    {
     "data": {
      "text/plain": [
       "0.8935852081336622"
      ]
     },
     "execution_count": 120,
     "metadata": {},
     "output_type": "execute_result"
    }
   ],
   "source": [
    "model.score(x_test,y_test)"
   ]
  },
  {
   "cell_type": "code",
   "execution_count": 121,
   "metadata": {},
   "outputs": [
    {
     "name": "stdout",
     "output_type": "stream",
     "text": [
      "[0.89005333 0.88722492 0.89917111 0.88348046]\n",
      "0.8899824550559756\n"
     ]
    }
   ],
   "source": [
    "from sklearn.model_selection import cross_val_score\n",
    "from sklearn.model_selection import ShuffleSplit\n",
    "cv=ShuffleSplit(n_splits=4,test_size=0.2, random_state=0)\n",
    "score=cross_val_score(model,x_train,y_train,cv=cv)\n",
    "print(score)\n",
    "print(np.mean(score))"
   ]
  },
  {
   "cell_type": "code",
   "execution_count": 75,
   "metadata": {
    "scrolled": true
   },
   "outputs": [
    {
     "data": {
      "image/png": "[encoded data removed]",
      "text/plain": [
       "<Figure size 576x396 with 2 Axes>"
      ]
     },
     "metadata": {},
     "output_type": "display_data"
    },
    {
     "data": {
      "text/plain": [
       "<matplotlib.axes._subplots.AxesSubplot at 0xe7a9f88>"
      ]
     },
     "execution_count": 75,
     "metadata": {},
     "output_type": "execute_result"
    }
   ],
   "source": [
    "from yellowbrick.regressor import ResidualsPlot\n",
    "visualizer=ResidualsPlot(model)\n",
    "visualizer.fit(x_train,y_train)\n",
    "visualizer.score(x_train,y_train)\n",
    "visualizer.show()"
   ]
  },
  {
   "cell_type": "markdown",
   "metadata": {},
   "source": [
    "#### it can be observed from the histogram that error is normally distributed along 0 line"
   ]
  },
  {
   "cell_type": "markdown",
   "metadata": {},
   "source": [
    "### LETS TEST OUR MODEL BEFORE EXPORTING FOR ACTUAL PRODUCTION"
   ]
  },
  {
   "cell_type": "code",
   "execution_count": 122,
   "metadata": {
    "scrolled": false
   },
   "outputs": [
    {
     "data": {
      "text/plain": [
       "Index(['size', 'total_sqft', 'balcony', '1st Phase JP Nagar',\n",
       "       '2nd Phase Judicial Layout', '5th Block Hbr Layout',\n",
       "       '5th Phase JP Nagar', '6th Phase JP Nagar', '7th Phase JP Nagar',\n",
       "       '8th Phase JP Nagar',\n",
       "       ...\n",
       "       'Vijayanagar', 'Vishveshwarya Layout', 'Vishwapriya Layout',\n",
       "       'Vittasandra', 'Whitefield', 'Yelachenahalli', 'Yelahanka',\n",
       "       'Yelahanka New Town', 'Yelenahalli', 'Yeshwanthpur'],\n",
       "      dtype='object', length=229)"
      ]
     },
     "execution_count": 122,
     "metadata": {},
     "output_type": "execute_result"
    }
   ],
   "source": [
    "x.columns"
   ]
  },
  {
   "cell_type": "code",
   "execution_count": 125,
   "metadata": {},
   "outputs": [],
   "source": [
    "def predict_price(location,size,total_sqft,balcony):\n",
    "    loc_index=np.where(x.columns==location)[0][0]\n",
    "    X=np.zeros(len(x.columns))\n",
    "    X[0]=size\n",
    "    X[1]=total_sqft\n",
    "    X[2]=balcony\n",
    "    if loc_index >= 0:\n",
    "        X[loc_index]=1\n",
    "    return model.predict([X])[0]"
   ]
  },
  {
   "cell_type": "code",
   "execution_count": 126,
   "metadata": {},
   "outputs": [
    {
     "data": {
      "text/plain": [
       "60.39406796531816"
      ]
     },
     "execution_count": 126,
     "metadata": {},
     "output_type": "execute_result"
    }
   ],
   "source": [
    "predict_price('1st Phase JP Nagar',3,1200,3)"
   ]
  },
  {
   "cell_type": "code",
   "execution_count": 127,
   "metadata": {},
   "outputs": [],
   "source": [
    "import pickle\n",
    "pickle.dump(model,open('house_price_model_pickle.pkl','wb'))"
   ]
  },
  {
   "cell_type": "code",
   "execution_count": 128,
   "metadata": {},
   "outputs": [],
   "source": [
    "import json\n",
    "columns ={\n",
    "    'data_columns' : [col for col in x.columns]\n",
    "}\n",
    "with open ('columns.json','w') as f:\n",
    "    json.dump(columns,f)"
   ]
  },
  {
   "cell_type": "code",
   "execution_count": 210,
   "metadata": {},
   "outputs": [
    {
     "data": {
      "text/plain": [
       "219"
      ]
     },
     "execution_count": 210,
     "metadata": {},
     "output_type": "execute_result"
    }
   ],
   "source": [
    "location='Vijayanagar'\n",
    "loc_index=np.where(x.columns==location)[0][0]\n",
    "loc_index"
   ]
  },
  {
   "cell_type": "code",
   "execution_count": 268,
   "metadata": {},
   "outputs": [],
   "source": [
    "with open('columns.json', 'r') as f:\n",
    "    __data_columns = json.load(f)['data_columns']"
   ]
  },
  {
   "cell_type": "code",
   "execution_count": 269,
   "metadata": {},
   "outputs": [
    {
     "data": {
      "text/plain": [
       "list"
      ]
     },
     "execution_count": 269,
     "metadata": {},
     "output_type": "execute_result"
    }
   ],
   "source": [
    "type(__data_columns)"
   ]
  },
  {
   "cell_type": "code",
   "execution_count": 270,
   "metadata": {},
   "outputs": [],
   "source": [
    "data_columns=np.array(__data_columns,dtype=\"object\")"
   ]
  },
  {
   "cell_type": "code",
   "execution_count": 271,
   "metadata": {},
   "outputs": [
    {
     "data": {
      "text/plain": [
       "array(['size', 'total_sqft', 'balcony', '1st Phase JP Nagar',\n",
       "       '2nd Phase Judicial Layout', '5th Block Hbr Layout',\n",
       "       '5th Phase JP Nagar', '6th Phase JP Nagar', '7th Phase JP Nagar',\n",
       "       '8th Phase JP Nagar', '9th Phase JP Nagar', 'AECS Layout',\n",
       "       'Abbigere', 'Akshaya Nagar', 'Ambalipura', 'Ambedkar Nagar',\n",
       "       'Amruthahalli', 'Anandapura', 'Ananth Nagar', 'Anekal',\n",
       "       'Anjanapura', 'Ardendale', 'Arekere', 'Attibele', 'BEML Layout',\n",
       "       'BTM 2nd Stage', 'BTM Layout', 'Babusapalaya', 'Badavala Nagar',\n",
       "       'Balagere', 'Banashankari', 'Banashankari Stage II',\n",
       "       'Banashankari Stage III', 'Banashankari Stage V',\n",
       "       'Banashankari Stage VI', 'Banaswadi', 'Banjara Layout',\n",
       "       'Bannerghatta', 'Bannerghatta Road', 'Basavangudi',\n",
       "       'Basaveshwara Nagar', 'Battarahalli', 'Begur', 'Begur Road',\n",
       "       'Bellandur', 'Bharathi Nagar', 'Bhoganhalli', 'Billekahalli',\n",
       "       'Binny Pete', 'Bisuvanahalli', 'Bommanahalli', 'Bommasandra',\n",
       "       'Bommenahalli', 'Brookefield', 'Budigere', 'CV Raman Nagar',\n",
       "       'Chamrajpet', 'Chandapura', 'Channasandra', 'Chikka Tirupathi',\n",
       "       'Chikkabanavar', 'Chikkalasandra', 'Choodasandra', 'Cox Town',\n",
       "       'Dasanapura', 'Dasarahalli', 'Devanahalli', 'Devarachikkanahalli',\n",
       "       'Dodda Nekkundi', 'Doddaballapur', 'Doddakallasandra',\n",
       "       'Doddathoguru', 'Domlur', 'Dommasandra', 'EPIP Zone',\n",
       "       'Electronic City', 'Electronic City Phase II',\n",
       "       'Electronics City Phase 1', 'Frazer Town', 'GM Palaya',\n",
       "       'Garudachar Palya', 'Gollarapalya Hosahalli', 'Gottigere',\n",
       "       'Green Glen Layout', 'Gubbalala', 'Gunjur', 'HBR Layout',\n",
       "       'HRBR Layout', 'HSR Layout', 'Haralur Road', 'Harlur', 'Hebbal',\n",
       "       'Hebbal Kempapura', 'Hegde Nagar', 'Hennur', 'Hennur Road',\n",
       "       'Hoodi', 'Horamavu Agara', 'Horamavu Banaswadi', 'Hormavu',\n",
       "       'Hosa Road', 'Hosakerehalli', 'Hoskote', 'Hosur Road', 'Hulimavu',\n",
       "       'ISRO Layout', 'ITPL', 'Iblur Village', 'Indira Nagar', 'JP Nagar',\n",
       "       'Jakkur', 'Jalahalli', 'Jalahalli East', 'Jigani',\n",
       "       'Judicial Layout', 'KR Puram', 'Kadubeesanahalli', 'Kadugodi',\n",
       "       'Kaggadasapura', 'Kaggalipura', 'Kaikondrahalli',\n",
       "       'Kalena Agrahara', 'Kalyan nagar', 'Kambipura', 'Kammanahalli',\n",
       "       'Kammasandra', 'Kanakapura', 'Kanakpura Road', 'Kannamangala',\n",
       "       'Karuna Nagar', 'Kasavanhalli', 'Kasturi Nagar', 'Kathriguppe',\n",
       "       'Kaval Byrasandra', 'Kenchenahalli', 'Kengeri',\n",
       "       'Kengeri Satellite Town', 'Kereguddadahalli', 'Kodichikkanahalli',\n",
       "       'Kodigehaali', 'Kogilu', 'Konanakunte', 'Koramangala', 'Kothannur',\n",
       "       'Kothanur', 'Kudlu', 'Kudlu Gate', 'Kumaraswami Layout',\n",
       "       'Kundalahalli', 'LB Shastri Nagar', 'Laggere',\n",
       "       'Lakshminarayana Pura', 'Lingadheeranahalli', 'Magadi Road',\n",
       "       'Mahadevpura', 'Mallasandra', 'Malleshpalya', 'Marathahalli',\n",
       "       'Margondanahalli', 'Marsur', 'Mico Layout', 'Munnekollal',\n",
       "       'Murugeshpalya', 'Mysore Road', 'NGR Layout', 'NRI Layout',\n",
       "       'Nagarbhavi', 'Nagasandra', 'Nagavara', 'Nagavarapalya',\n",
       "       'Narayanapura', 'Neeladri Nagar', 'Nehru Nagar', 'OMBR Layout',\n",
       "       'Old Airport Road', 'Old Madras Road', 'Padmanabhanagar',\n",
       "       'Pai Layout', 'Panathur', 'Parappana Agrahara',\n",
       "       'Pattandur Agrahara', 'Poorna Pragna Layout', 'Prithvi Layout',\n",
       "       'R.T. Nagar', 'Rachenahalli', 'Raja Rajeshwari Nagar',\n",
       "       'Rajiv Nagar', 'Ramagondanahalli', 'Ramamurthy Nagar',\n",
       "       'Rayasandra', 'Sahakara Nagar', 'Sanjay nagar', 'Sarjapur',\n",
       "       'Sarjapur  Road', 'Sarjapura - Attibele Road',\n",
       "       'Sector 2 HSR Layout', 'Sector 7 HSR Layout', 'Seegehalli',\n",
       "       'Shampura', 'Shivaji Nagar', 'Singasandra', 'Somasundara Palya',\n",
       "       'Sompura', 'Sonnenahalli', 'Subramanyapura', 'Sultan Palaya',\n",
       "       'TC Palaya', 'Talaghattapura', 'Thanisandra', 'Thigalarapalya',\n",
       "       'Thubarahalli', 'Tindlu', 'Tumkur Road', 'Ulsoor', 'Uttarahalli',\n",
       "       'Varthur', 'Varthur Road', 'Vasanthapura', 'Vidyaranyapura',\n",
       "       'Vijayanagar', 'Vishveshwarya Layout', 'Vishwapriya Layout',\n",
       "       'Vittasandra', 'Whitefield', 'Yelachenahalli', 'Yelahanka',\n",
       "       'Yelahanka New Town', 'Yelenahalli', 'Yeshwanthpur'], dtype=object)"
      ]
     },
     "execution_count": 271,
     "metadata": {},
     "output_type": "execute_result"
    }
   ],
   "source": [
    "data_columns"
   ]
  },
  {
   "cell_type": "code",
   "execution_count": 215,
   "metadata": {
    "scrolled": true
   },
   "outputs": [
    {
     "data": {
      "text/plain": [
       "pandas.core.indexes.base.Index"
      ]
     },
     "execution_count": 215,
     "metadata": {},
     "output_type": "execute_result"
    }
   ],
   "source": [
    "type(x.columns)"
   ]
  },
  {
   "cell_type": "code",
   "execution_count": 251,
   "metadata": {},
   "outputs": [
    {
     "data": {
      "text/plain": [
       "3"
      ]
     },
     "execution_count": 251,
     "metadata": {},
     "output_type": "execute_result"
    }
   ],
   "source": [
    "location='1st phase jp nagar'\n",
    "loc_index=np.where(data_columns==location)[0][0]\n",
    "loc_index"
   ]
  },
  {
   "cell_type": "code",
   "execution_count": null,
   "metadata": {},
   "outputs": [],
   "source": [
    "loc_index=np.where(data_columns==location)[0][0]"
   ]
  }
 ],
 "metadata": {
  "kernelspec": {
   "display_name": "Python 3",
   "language": "python",
   "name": "python3"
  },
  "language_info": {
   "codemirror_mode": {
    "name": "ipython",
    "version": 3
   },
   "file_extension": ".py",
   "mimetype": "text/x-python",
   "name": "python",
   "nbconvert_exporter": "python",
   "pygments_lexer": "ipython3",
   "version": "3.7.6"
  }
 },
 "nbformat": 4,
 "nbformat_minor": 4
}
